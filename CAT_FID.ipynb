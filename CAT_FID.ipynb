{
 "cells": [
  {
   "cell_type": "code",
   "execution_count": 1,
   "id": "49de321e-a4c8-4c27-9bd6-bbf46c389103",
   "metadata": {},
   "outputs": [
    {
     "name": "stdout",
     "output_type": "stream",
     "text": [
      "Requirement already satisfied: pandas in /Users/anupamchaudhauri/opt/miniconda3/envs/FID/lib/python3.12/site-packages (2.2.2)\n",
      "Requirement already satisfied: numpy>=1.26.0 in /Users/anupamchaudhauri/opt/miniconda3/envs/FID/lib/python3.12/site-packages (from pandas) (1.26.4)\n",
      "Requirement already satisfied: python-dateutil>=2.8.2 in /Users/anupamchaudhauri/opt/miniconda3/envs/FID/lib/python3.12/site-packages (from pandas) (2.8.2)\n",
      "Requirement already satisfied: pytz>=2020.1 in /Users/anupamchaudhauri/opt/miniconda3/envs/FID/lib/python3.12/site-packages (from pandas) (2023.3.post1)\n",
      "Requirement already satisfied: tzdata>=2022.7 in /Users/anupamchaudhauri/opt/miniconda3/envs/FID/lib/python3.12/site-packages (from pandas) (2024.1)\n",
      "Requirement already satisfied: six>=1.5 in /Users/anupamchaudhauri/opt/miniconda3/envs/FID/lib/python3.12/site-packages (from python-dateutil>=2.8.2->pandas) (1.16.0)\n",
      "Note: you may need to restart the kernel to use updated packages.\n"
     ]
    }
   ],
   "source": [
    "pip install pandas"
   ]
  },
  {
   "cell_type": "code",
   "execution_count": 2,
   "id": "24cc7585-5f93-4611-99f5-13580355915b",
   "metadata": {},
   "outputs": [
    {
     "name": "stdout",
     "output_type": "stream",
     "text": [
      "\n"
     ]
    }
   ],
   "source": [
    "!echo $path2\n"
   ]
  },
  {
   "cell_type": "code",
   "execution_count": null,
   "id": "fdd8953a-b7b8-46dd-8367-1d92f9ec8c73",
   "metadata": {},
   "outputs": [],
   "source": []
  },
  {
   "cell_type": "code",
   "execution_count": 8,
   "id": "7d86d26a-7a9a-4741-8b50-ea63fc69cb56",
   "metadata": {},
   "outputs": [],
   "source": [
    "path2 = \"/Users/anupamchaudhauri/Desktop/Code_source/GAN_IS/epoch_419\""
   ]
  },
  {
   "cell_type": "code",
   "execution_count": 9,
   "id": "713c1017-0f28-48d7-a731-3731470acd9d",
   "metadata": {},
   "outputs": [
    {
     "name": "stdout",
     "output_type": "stream",
     "text": [
      "/Users/anupamchaudhauri/Desktop/Code_source/GAN_IS/epoch_419\n"
     ]
    }
   ],
   "source": [
    "!echo $path2\n"
   ]
  },
  {
   "cell_type": "code",
   "execution_count": 12,
   "id": "1cf46d8f-bb2c-4dbc-8676-9a7480b64cb8",
   "metadata": {},
   "outputs": [
    {
     "name": "stdout",
     "output_type": "stream",
     "text": [
      "FID:  91.92895664982399\n"
     ]
    }
   ],
   "source": [
    "!python -m pytorch_fid real real1_150"
   ]
  },
  {
   "cell_type": "code",
   "execution_count": 13,
   "id": "86384bd8-90f4-4ec4-986d-11c58048d216",
   "metadata": {},
   "outputs": [
    {
     "name": "stdout",
     "output_type": "stream",
     "text": [
      "FID:  94.0012967261392\n"
     ]
    }
   ],
   "source": [
    "!python -m pytorch_fid real real_150"
   ]
  },
  {
   "cell_type": "code",
   "execution_count": 27,
   "id": "3e1be6f6-95f1-48e4-8151-446531edbf42",
   "metadata": {},
   "outputs": [],
   "source": [
    "from pytorch_fid.fid_score import *"
   ]
  },
  {
   "cell_type": "code",
   "execution_count": 37,
   "id": "25c6ef5c-550e-4502-8c9e-684fc80d4e57",
   "metadata": {},
   "outputs": [
    {
     "data": {
      "text/plain": [
       "94.0012967261392"
      ]
     },
     "execution_count": 37,
     "metadata": {},
     "output_type": "execute_result"
    }
   ],
   "source": [
    "calculate_fid_given_paths(['real','real_150'], 50, 'cpu', 2048, 8)"
   ]
  },
  {
   "cell_type": "code",
   "execution_count": 20,
   "id": "3b1264a1-d9d8-41be-8051-d8e187d2c2de",
   "metadata": {},
   "outputs": [
    {
     "data": {
      "text/plain": [
       "<module 'pytorch_fid' from '/Users/anupamchaudhauri/opt/miniconda3/envs/FID/lib/python3.12/site-packages/pytorch_fid/__init__.py'>"
      ]
     },
     "execution_count": 20,
     "metadata": {},
     "output_type": "execute_result"
    }
   ],
   "source": [
    "pytorch_fid."
   ]
  },
  {
   "cell_type": "code",
   "execution_count": null,
   "id": "a049fc45-f456-40b0-b9c2-987ed81b3261",
   "metadata": {},
   "outputs": [],
   "source": []
  },
  {
   "cell_type": "code",
   "execution_count": 16,
   "id": "166e4c91-ed13-4f0b-81fe-7563c3458e6f",
   "metadata": {},
   "outputs": [
    {
     "ename": "SyntaxError",
     "evalue": "invalid syntax (1371323500.py, line 1)",
     "output_type": "error",
     "traceback": [
      "\u001b[0;36m  Cell \u001b[0;32mIn[16], line 1\u001b[0;36m\u001b[0m\n\u001b[0;31m    python -m pytorch_fid\u001b[0m\n\u001b[0m              ^\u001b[0m\n\u001b[0;31mSyntaxError\u001b[0m\u001b[0;31m:\u001b[0m invalid syntax\n"
     ]
    }
   ],
   "source": [
    "python -m pytorch_fid"
   ]
  },
  {
   "cell_type": "code",
   "execution_count": null,
   "id": "af3b4ef8-95bb-47d3-a16b-0b7b14f56120",
   "metadata": {},
   "outputs": [],
   "source": [
    "\n",
    "      "
   ]
  },
  {
   "cell_type": "code",
   "execution_count": 15,
   "id": "3bf68d2c-7797-4abc-8bf9-d5a91ac7484e",
   "metadata": {},
   "outputs": [
    {
     "name": "stdout",
     "output_type": "stream",
     "text": [
      "{'Epoch': 9, 'FID': 284.71801596518867}\n",
      "{'Epoch': 19, 'FID': 243.24404212302716}\n",
      "{'Epoch': 29, 'FID': 239.22686359131407}\n",
      "{'Epoch': 39, 'FID': 153.25777810223278}\n",
      "{'Epoch': 49, 'FID': 171.45272830316512}\n",
      "{'Epoch': 59, 'FID': 132.25615371314154}\n",
      "{'Epoch': 69, 'FID': 139.81639486482763}\n",
      "{'Epoch': 79, 'FID': 112.97252532170819}\n",
      "{'Epoch': 89, 'FID': 123.29600962328459}\n",
      "{'Epoch': 99, 'FID': 127.8205487763135}\n",
      "{'Epoch': 109, 'FID': 105.79181278026613}\n",
      "{'Epoch': 119, 'FID': 120.08639540399571}\n",
      "{'Epoch': 129, 'FID': 112.42468922014427}\n",
      "{'Epoch': 139, 'FID': 100.81655360937776}\n",
      "{'Epoch': 149, 'FID': 97.93553097445405}\n",
      "{'Epoch': 159, 'FID': 95.58019683340243}\n",
      "{'Epoch': 169, 'FID': 118.37195796002018}\n",
      "{'Epoch': 179, 'FID': 107.651091196545}\n",
      "{'Epoch': 189, 'FID': 102.48854640228711}\n",
      "{'Epoch': 199, 'FID': 117.93234905913468}\n",
      "{'Epoch': 209, 'FID': 98.79422980747489}\n",
      "{'Epoch': 219, 'FID': 113.72951855813909}\n",
      "{'Epoch': 229, 'FID': 98.73309762821907}\n",
      "{'Epoch': 239, 'FID': 102.41200547435199}\n",
      "{'Epoch': 249, 'FID': 107.46192538677275}\n",
      "{'Epoch': 259, 'FID': 98.63965406175464}\n",
      "{'Epoch': 269, 'FID': 102.94627758561245}\n",
      "{'Epoch': 279, 'FID': 97.43906024520209}\n",
      "{'Epoch': 289, 'FID': 95.36228144043054}\n",
      "{'Epoch': 299, 'FID': 105.07896465506198}\n",
      "{'Epoch': 309, 'FID': 92.32708737598384}\n",
      "{'Epoch': 319, 'FID': 94.29752864619803}\n",
      "{'Epoch': 329, 'FID': 91.10221643819153}\n",
      "{'Epoch': 339, 'FID': 90.58854866590025}\n",
      "{'Epoch': 349, 'FID': 90.47333286918041}\n",
      "{'Epoch': 359, 'FID': 91.12084733748372}\n",
      "{'Epoch': 369, 'FID': 95.21844840278254}\n",
      "{'Epoch': 379, 'FID': 95.42457847584075}\n",
      "{'Epoch': 389, 'FID': 90.34828083428874}\n",
      "{'Epoch': 399, 'FID': 99.03911463352014}\n",
      "{'Epoch': 409, 'FID': 91.59670649789018}\n",
      "{'Epoch': 419, 'FID': 92.79242934467447}\n",
      "{'Epoch': 429, 'FID': 96.75696327661524}\n",
      "{'Epoch': 439, 'FID': 96.11201138756797}\n",
      "{'Epoch': 449, 'FID': 87.75830031144915}\n",
      "{'Epoch': 459, 'FID': 93.84370860840207}\n",
      "{'Epoch': 469, 'FID': 97.00309661064173}\n",
      "{'Epoch': 479, 'FID': 90.8406541747824}\n",
      "{'Epoch': 489, 'FID': 96.32952484708125}\n",
      "{'Epoch': 499, 'FID': 88.92119201998443}\n"
     ]
    }
   ],
   "source": [
    "import subprocess\n",
    "import pandas as pd\n",
    "\n",
    "def get_fid_scores(start, end, step, base_dir):\n",
    "    \"\"\"\n",
    "    Retrieves FID scores for directories named 'epoch_x' from start to end with a given step.\n",
    "\n",
    "    Args:\n",
    "    start (int): Starting epoch number.\n",
    "    end (int): Ending epoch number.\n",
    "    step (int): Step between epoch.\n",
    "    base_dir (str): Base directory containing epoch subdirectories.\n",
    "\n",
    "    Returns:\n",
    "    pd.DataFrame: A DataFrame with columns 'Epoch' and 'FID' containing the scores.\n",
    "    \"\"\"\n",
    "    data = []\n",
    "    \n",
    "    for epoch in range(start, end + 1, step):\n",
    "        dir_name = f\"epoch_{epoch}\"\n",
    "        path = f\"{base_dir}/{dir_name}\"  # Construct path to directory\n",
    "\n",
    "        # Construct the command to run\n",
    "        command = f\"python -m pytorch_fid real_2000 {path}\"\n",
    "        \n",
    "        # Run the command\n",
    "        result = subprocess.run(command, shell=True, capture_output=True, text=True)\n",
    "        \n",
    "        # Extract FID score from the output\n",
    "        output = result.stdout.strip()\n",
    "        try:\n",
    "            fid_score = float(output.split()[-1])  # Assumes the last word in output is the FID score\n",
    "        except ValueError:\n",
    "            print(f\"Failed to extract FID from output: {output}\")\n",
    "            continue\n",
    "        \n",
    "        # Append the result\n",
    "        data.append({\"Epoch\": epoch, \"FID\": fid_score})\n",
    "        print({\"Epoch\": epoch, \"FID\": fid_score})\n",
    "    \n",
    "    # Create a DataFrame\n",
    "    df = pd.DataFrame(data)\n",
    "    \n",
    "    return df\n",
    "\n",
    "# Example usage\n",
    "base_dir = \"/Users/anupamchaudhauri/Desktop/Code_source/GAN_IS\"\n",
    "fid_df = get_fid_scores(9, 499, 10, base_dir)\n",
    "#print(fid_df)\n",
    "fid_df.to_csv('CAT_FID_score.csv_2000', index=False)\n"
   ]
  },
  {
   "cell_type": "code",
   "execution_count": 34,
   "id": "c2f8c524-7806-48b8-b2a5-8e392c1bb08a",
   "metadata": {},
   "outputs": [
    {
     "name": "stdout",
     "output_type": "stream",
     "text": [
      "{'Epoch': 9, 'FID': 286.9839782225457}\n",
      "{'Epoch': 19, 'FID': 247.69280223287396}\n",
      "{'Epoch': 29, 'FID': 243.93787951320758}\n"
     ]
    }
   ],
   "source": [
    "#import subprocess\n",
    "import pandas as pd\n",
    "\n",
    "def get_fid_scores(start, end, step, base_dir):\n",
    "    \"\"\"\n",
    "    Retrieves FID scores for directories named 'epoch_x' from start to end with a given step.\n",
    "\n",
    "    Args:\n",
    "    start (int): Starting epoch number.\n",
    "    end (int): Ending epoch number.\n",
    "    step (int): Step between epoch.\n",
    "    base_dir (str): Base directory containing epoch subdirectories.\n",
    "\n",
    "    Returns:\n",
    "    pd.DataFrame: A DataFrame with columns 'Epoch' and 'FID' containing the scores.\n",
    "    \"\"\"\n",
    "    data = []\n",
    "    \n",
    "    for epoch in range(start, end + 1, step):\n",
    "        dir_name = f\"epoch_{epoch}\"\n",
    "        path = f\"{base_dir}/{dir_name}\"  # Construct path to directory\n",
    "\n",
    "        # Construct the command to run\n",
    "        command = f\"python -m pytorch_fid real_2000 {path}\"\n",
    "        result = calculate_fid_given_paths(['real',path], 50, 'cpu', 2048, 8)\n",
    "        \n",
    "        # Run the command\n",
    "        #result = subprocess.run(command, shell=True, capture_output=True, text=True)\n",
    "        \n",
    "        # # Extract FID score from the output\n",
    "        # #output = result.stdout.strip()\n",
    "        # try:\n",
    "        #     fid_score = float(output.split()[-1])  # Assumes the last word in output is the FID score\n",
    "        # except ValueError:\n",
    "        #     print(f\"Failed to extract FID from output: {output}\")\n",
    "        #     continue\n",
    "        fid_score = result\n",
    "        # Append the result\n",
    "        data.append({\"Epoch\": epoch, \"FID\": fid_score})\n",
    "        print({\"Epoch\": epoch, \"FID\": fid_score})\n",
    "    \n",
    "    # Create a DataFrame\n",
    "    df = pd.DataFrame(data)\n",
    "    \n",
    "    return df\n",
    "\n",
    "# Example usage\n",
    "base_dir = \"/Users/anupamchaudhauri/Desktop/Code_source/GAN_IS\"\n",
    "fid_df = get_fid_scores(9, 29, 10, base_dir)\n",
    "#print(fid_df)\n",
    "fid_df.to_csv('CAT_FID_score.csv_t', index=False)\n"
   ]
  },
  {
   "cell_type": "code",
   "execution_count": null,
   "id": "18624eec-8cce-4351-b1dd-67309a636bef",
   "metadata": {},
   "outputs": [],
   "source": []
  }
 ],
 "metadata": {
  "kernelspec": {
   "display_name": "Python 3 (ipykernel)",
   "language": "python",
   "name": "python3"
  },
  "language_info": {
   "codemirror_mode": {
    "name": "ipython",
    "version": 3
   },
   "file_extension": ".py",
   "mimetype": "text/x-python",
   "name": "python",
   "nbconvert_exporter": "python",
   "pygments_lexer": "ipython3",
   "version": "3.12.2"
  }
 },
 "nbformat": 4,
 "nbformat_minor": 5
}
