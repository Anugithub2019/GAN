{
 "cells": [
  {
   "cell_type": "code",
   "execution_count": 1,
   "id": "7227df7c",
   "metadata": {},
   "outputs": [],
   "source": [
    "import numpy as np\n",
    "from keras.datasets.cifar10 import load_data\n",
    "\n",
    "def load_real_samples():\n",
    "    # load cifar10 dataset\n",
    "    (trainX, trainy), (_, _) = load_data()\n",
    "    # Take only cat images \n",
    "    trainX = trainX[trainy.ravel() == 3]\n",
    "\n",
    "    # Convert from unsigned ints to floats\n",
    "    X = trainX.astype('float32')\n",
    "    # Scale from [0,255] to [-1,1]\n",
    "    X = (X - 127.5) / 127.5\n",
    "    return X\n",
    "\n",
    "# Load and process the data\n",
    "X = load_real_samples()\n",
    "\n",
    "# Save the array to a file\n",
    "np.save('cifar10_cats.npy', X)\n",
    "\n"
   ]
  },
  {
   "cell_type": "code",
   "execution_count": 2,
   "id": "f9bd3756",
   "metadata": {},
   "outputs": [],
   "source": [
    "X_loaded = np.load('cifar10_cats.npy')\n"
   ]
  },
  {
   "cell_type": "code",
   "execution_count": null,
   "id": "43d7f6ef",
   "metadata": {},
   "outputs": [],
   "source": []
  }
 ],
 "metadata": {
  "kernelspec": {
   "display_name": "Python 3.9 (tensorflow)",
   "language": "python",
   "name": "consistent-ml3"
  },
  "language_info": {
   "codemirror_mode": {
    "name": "ipython",
    "version": 3
   },
   "file_extension": ".py",
   "mimetype": "text/x-python",
   "name": "python",
   "nbconvert_exporter": "python",
   "pygments_lexer": "ipython3",
   "version": "3.9.13"
  }
 },
 "nbformat": 4,
 "nbformat_minor": 5
}
