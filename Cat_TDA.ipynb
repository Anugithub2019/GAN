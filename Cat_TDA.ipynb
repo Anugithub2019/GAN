{
 "cells": [
  {
   "cell_type": "code",
   "execution_count": 1,
   "id": "8b11fba3",
   "metadata": {},
   "outputs": [
    {
     "name": "stdout",
     "output_type": "stream",
     "text": [
      "Requirement already satisfied: dadapy in /Users/anupamchaudhauri/opt/miniconda3/lib/python3.9/site-packages (0.2.0)\n",
      "Requirement already satisfied: scipy in /Users/anupamchaudhauri/opt/miniconda3/lib/python3.9/site-packages (from dadapy) (1.10.1)\n",
      "Requirement already satisfied: scikit-learn in /Users/anupamchaudhauri/opt/miniconda3/lib/python3.9/site-packages (from dadapy) (1.2.2)\n",
      "Requirement already satisfied: matplotlib in /Users/anupamchaudhauri/opt/miniconda3/lib/python3.9/site-packages (from dadapy) (3.7.1)\n",
      "Requirement already satisfied: numpy in /Users/anupamchaudhauri/opt/miniconda3/lib/python3.9/site-packages (from dadapy) (1.25.0)\n",
      "Requirement already satisfied: contourpy>=1.0.1 in /Users/anupamchaudhauri/opt/miniconda3/lib/python3.9/site-packages (from matplotlib->dadapy) (1.0.5)\n",
      "Requirement already satisfied: fonttools>=4.22.0 in /Users/anupamchaudhauri/opt/miniconda3/lib/python3.9/site-packages (from matplotlib->dadapy) (4.25.0)\n",
      "Requirement already satisfied: python-dateutil>=2.7 in /Users/anupamchaudhauri/opt/miniconda3/lib/python3.9/site-packages (from matplotlib->dadapy) (2.8.2)\n",
      "Requirement already satisfied: pyparsing>=2.3.1 in /Users/anupamchaudhauri/opt/miniconda3/lib/python3.9/site-packages (from matplotlib->dadapy) (3.0.9)\n",
      "Requirement already satisfied: importlib-resources>=3.2.0 in /Users/anupamchaudhauri/opt/miniconda3/lib/python3.9/site-packages (from matplotlib->dadapy) (5.2.0)\n",
      "Requirement already satisfied: pillow>=6.2.0 in /Users/anupamchaudhauri/opt/miniconda3/lib/python3.9/site-packages (from matplotlib->dadapy) (9.4.0)\n",
      "Requirement already satisfied: packaging>=20.0 in /Users/anupamchaudhauri/opt/miniconda3/lib/python3.9/site-packages (from matplotlib->dadapy) (21.3)\n",
      "Requirement already satisfied: kiwisolver>=1.0.1 in /Users/anupamchaudhauri/opt/miniconda3/lib/python3.9/site-packages (from matplotlib->dadapy) (1.4.4)\n",
      "Requirement already satisfied: cycler>=0.10 in /Users/anupamchaudhauri/opt/miniconda3/lib/python3.9/site-packages (from matplotlib->dadapy) (0.11.0)\n",
      "Requirement already satisfied: zipp>=3.1.0 in /Users/anupamchaudhauri/opt/miniconda3/lib/python3.9/site-packages (from importlib-resources>=3.2.0->matplotlib->dadapy) (3.11.0)\n",
      "Requirement already satisfied: six>=1.5 in /Users/anupamchaudhauri/opt/miniconda3/lib/python3.9/site-packages (from python-dateutil>=2.7->matplotlib->dadapy) (1.16.0)\n",
      "Requirement already satisfied: threadpoolctl>=2.0.0 in /Users/anupamchaudhauri/opt/miniconda3/lib/python3.9/site-packages (from scikit-learn->dadapy) (2.2.0)\n",
      "Requirement already satisfied: joblib>=1.1.1 in /Users/anupamchaudhauri/opt/miniconda3/lib/python3.9/site-packages (from scikit-learn->dadapy) (1.2.0)\n",
      "Note: you may need to restart the kernel to use updated packages.\n"
     ]
    }
   ],
   "source": [
    "pip install dadapy"
   ]
  },
  {
   "cell_type": "code",
   "execution_count": 2,
   "id": "bd3f2959",
   "metadata": {},
   "outputs": [],
   "source": [
    "import numpy as np\n",
    "from dadapy import Data\n"
   ]
  },
  {
   "cell_type": "code",
   "execution_count": 3,
   "id": "bed52ea7",
   "metadata": {},
   "outputs": [],
   "source": [
    "X = np.load('cifar10_cats.npy')\n"
   ]
  },
  {
   "cell_type": "code",
   "execution_count": null,
   "id": "3c7fdc36",
   "metadata": {},
   "outputs": [],
   "source": []
  },
  {
   "cell_type": "code",
   "execution_count": null,
   "id": "127c2730",
   "metadata": {},
   "outputs": [],
   "source": []
  },
  {
   "cell_type": "code",
   "execution_count": 4,
   "id": "2da4c0a1",
   "metadata": {},
   "outputs": [],
   "source": [
    "def generate_real_samples(dataset, n_samples, replace=True):\n",
    "\tif replace:\n",
    "\t\t# choose random instances (with replacement)\n",
    "\t\tix = np.random.randint(0, dataset.shape[0], n_samples)\n",
    "\telse:\n",
    "\t\t# without replacement (must be less than total number of real images in dataset)\n",
    "\t\tix = np.random.choice(dataset.shape[0], n_samples, replace=False)\n",
    "\tX = dataset[ix]\n",
    "\t# generate 'real' class labels (1)\n",
    "\ty = np.ones((n_samples, 1))\n",
    "\treturn X,y\n",
    "\n",
    "def calculate_intrinsic_dimension(data):\n",
    "\t\"\"\"\n",
    "\tEstimate the intrinsic dimension of a dataset using the 2NN method from GUDHI.\n",
    "\n",
    "\tParameters:\n",
    "\tdata (numpy.ndarray): The dataset, where each row is a datapoint.\n",
    "\n",
    "\tReturns:\n",
    "\tfloat: The estimated intrinsic dimension.\n",
    "\t\"\"\"\n",
    "\t\n",
    "\n",
    "\t# Fit the model on the data and estimate the dimension\n",
    "\tID1, err1, scale1 = Data(data).compute_id_2NN(decimation = 1)\n",
    "\treturn ID1, err1, scale1\n",
    "\n",
    "\n",
    "def intr_dim_real(dataset, n_samples=1000):\n",
    "\tx_real, _ = generate_real_samples(dataset, n_samples, replace=False)\n",
    "\n",
    "\t# unravel each x_fake tensor into a flat vector (datapoint) so that we have a set of n_samples datapoints\n",
    "\tx_fake_flat = x_real.reshape(n_samples, -1)  # Reshaping to (n_samples, 3072)\n",
    "\n",
    "\t# calculate intrinsic dimensions of x_fake\n",
    "\tintrinsic_dim,err1,_ = calculate_intrinsic_dimension(x_fake_flat)\n",
    "\t# Note: You'll need to define `calculate_intrinsic_dimension` based on your chosen method\n",
    "\n",
    "\t# save result to file (or print it out), include the epoch in the file name\n",
    "\tfilename = f\"intrinsic_dim_real.txt\"\n",
    "\twith open(filename, \"w\") as file:\n",
    "\t\tfile.write(f\"Intrinsic Dimension of real data: {intrinsic_dim} Standard error: {err1}\\n\")\n",
    "\n",
    "\t# Alternatively, just print it out\n",
    "\tprint(f\"Intrinsic Dimension of real data: {intrinsic_dim} Standard error: {err1}\\n\")"
   ]
  },
  {
   "cell_type": "code",
   "execution_count": 5,
   "id": "a78db806",
   "metadata": {},
   "outputs": [
    {
     "name": "stdout",
     "output_type": "stream",
     "text": [
      "Intrinsic Dimension of real data: [23.72] Standard error: 0.0\n",
      "\n"
     ]
    }
   ],
   "source": [
    "dataset = X\n",
    "\n",
    "intr_dim_real(dataset)\n"
   ]
  },
  {
   "cell_type": "code",
   "execution_count": null,
   "id": "3dda22dd",
   "metadata": {},
   "outputs": [],
   "source": []
  },
  {
   "cell_type": "code",
   "execution_count": 6,
   "id": "1f5835cf",
   "metadata": {},
   "outputs": [
    {
     "name": "stdout",
     "output_type": "stream",
     "text": [
      "Requirement already satisfied: giotto-tda in /Users/anupamchaudhauri/opt/miniconda3/lib/python3.9/site-packages (0.6.0)\n",
      "Requirement already satisfied: ipywidgets>=7.5.1 in /Users/anupamchaudhauri/opt/miniconda3/lib/python3.9/site-packages (from giotto-tda) (7.6.5)\n",
      "Requirement already satisfied: pyflagser>=0.4.3 in /Users/anupamchaudhauri/opt/miniconda3/lib/python3.9/site-packages (from giotto-tda) (0.4.5)\n",
      "Requirement already satisfied: scipy>=1.5.0 in /Users/anupamchaudhauri/opt/miniconda3/lib/python3.9/site-packages (from giotto-tda) (1.10.1)\n",
      "Requirement already satisfied: scikit-learn>=0.23.1 in /Users/anupamchaudhauri/opt/miniconda3/lib/python3.9/site-packages (from giotto-tda) (1.2.2)\n",
      "Requirement already satisfied: plotly>=4.8.2 in /Users/anupamchaudhauri/opt/miniconda3/lib/python3.9/site-packages (from giotto-tda) (5.9.0)\n",
      "Requirement already satisfied: igraph>=0.9.8 in /Users/anupamchaudhauri/opt/miniconda3/lib/python3.9/site-packages (from giotto-tda) (0.10.5)\n",
      "Requirement already satisfied: giotto-ph>=0.2.1 in /Users/anupamchaudhauri/opt/miniconda3/lib/python3.9/site-packages (from giotto-tda) (0.2.2)\n",
      "Requirement already satisfied: joblib>=0.16.0 in /Users/anupamchaudhauri/opt/miniconda3/lib/python3.9/site-packages (from giotto-tda) (1.2.0)\n",
      "Requirement already satisfied: numpy>=1.19.1 in /Users/anupamchaudhauri/opt/miniconda3/lib/python3.9/site-packages (from giotto-tda) (1.25.0)\n",
      "Requirement already satisfied: texttable>=1.6.2 in /Users/anupamchaudhauri/opt/miniconda3/lib/python3.9/site-packages (from igraph>=0.9.8->giotto-tda) (1.6.7)\n",
      "Requirement already satisfied: ipython-genutils~=0.2.0 in /Users/anupamchaudhauri/opt/miniconda3/lib/python3.9/site-packages (from ipywidgets>=7.5.1->giotto-tda) (0.2.0)\n",
      "Requirement already satisfied: jupyterlab-widgets>=1.0.0 in /Users/anupamchaudhauri/opt/miniconda3/lib/python3.9/site-packages (from ipywidgets>=7.5.1->giotto-tda) (1.0.0)\n",
      "Requirement already satisfied: traitlets>=4.3.1 in /Users/anupamchaudhauri/opt/miniconda3/lib/python3.9/site-packages (from ipywidgets>=7.5.1->giotto-tda) (5.1.1)\n",
      "Requirement already satisfied: nbformat>=4.2.0 in /Users/anupamchaudhauri/opt/miniconda3/lib/python3.9/site-packages (from ipywidgets>=7.5.1->giotto-tda) (5.5.0)\n",
      "Requirement already satisfied: ipython>=4.0.0 in /Users/anupamchaudhauri/opt/miniconda3/lib/python3.9/site-packages (from ipywidgets>=7.5.1->giotto-tda) (8.4.0)\n",
      "Requirement already satisfied: ipykernel>=4.5.1 in /Users/anupamchaudhauri/opt/miniconda3/lib/python3.9/site-packages (from ipywidgets>=7.5.1->giotto-tda) (6.15.2)\n",
      "Requirement already satisfied: widgetsnbextension~=3.5.0 in /Users/anupamchaudhauri/opt/miniconda3/lib/python3.9/site-packages (from ipywidgets>=7.5.1->giotto-tda) (3.5.2)\n",
      "Requirement already satisfied: matplotlib-inline>=0.1 in /Users/anupamchaudhauri/opt/miniconda3/lib/python3.9/site-packages (from ipykernel>=4.5.1->ipywidgets>=7.5.1->giotto-tda) (0.1.6)\n",
      "Requirement already satisfied: nest-asyncio in /Users/anupamchaudhauri/opt/miniconda3/lib/python3.9/site-packages (from ipykernel>=4.5.1->ipywidgets>=7.5.1->giotto-tda) (1.5.5)\n",
      "Requirement already satisfied: jupyter-client>=6.1.12 in /Users/anupamchaudhauri/opt/miniconda3/lib/python3.9/site-packages (from ipykernel>=4.5.1->ipywidgets>=7.5.1->giotto-tda) (7.3.5)\n",
      "Requirement already satisfied: psutil in /Users/anupamchaudhauri/opt/miniconda3/lib/python3.9/site-packages (from ipykernel>=4.5.1->ipywidgets>=7.5.1->giotto-tda) (5.9.0)\n",
      "Requirement already satisfied: packaging in /Users/anupamchaudhauri/opt/miniconda3/lib/python3.9/site-packages (from ipykernel>=4.5.1->ipywidgets>=7.5.1->giotto-tda) (21.3)\n",
      "Requirement already satisfied: appnope in /Users/anupamchaudhauri/opt/miniconda3/lib/python3.9/site-packages (from ipykernel>=4.5.1->ipywidgets>=7.5.1->giotto-tda) (0.1.2)\n",
      "Requirement already satisfied: debugpy>=1.0 in /Users/anupamchaudhauri/opt/miniconda3/lib/python3.9/site-packages (from ipykernel>=4.5.1->ipywidgets>=7.5.1->giotto-tda) (1.5.1)\n",
      "Requirement already satisfied: tornado>=6.1 in /Users/anupamchaudhauri/opt/miniconda3/lib/python3.9/site-packages (from ipykernel>=4.5.1->ipywidgets>=7.5.1->giotto-tda) (6.2)\n",
      "Requirement already satisfied: pyzmq>=17 in /Users/anupamchaudhauri/opt/miniconda3/lib/python3.9/site-packages (from ipykernel>=4.5.1->ipywidgets>=7.5.1->giotto-tda) (23.2.0)\n",
      "Requirement already satisfied: backcall in /Users/anupamchaudhauri/opt/miniconda3/lib/python3.9/site-packages (from ipython>=4.0.0->ipywidgets>=7.5.1->giotto-tda) (0.2.0)\n",
      "Requirement already satisfied: pygments>=2.4.0 in /Users/anupamchaudhauri/opt/miniconda3/lib/python3.9/site-packages (from ipython>=4.0.0->ipywidgets>=7.5.1->giotto-tda) (2.11.2)\n",
      "Requirement already satisfied: pexpect>4.3 in /Users/anupamchaudhauri/opt/miniconda3/lib/python3.9/site-packages (from ipython>=4.0.0->ipywidgets>=7.5.1->giotto-tda) (4.8.0)\n",
      "Requirement already satisfied: pickleshare in /Users/anupamchaudhauri/opt/miniconda3/lib/python3.9/site-packages (from ipython>=4.0.0->ipywidgets>=7.5.1->giotto-tda) (0.7.5)\n",
      "Requirement already satisfied: setuptools>=18.5 in /Users/anupamchaudhauri/opt/miniconda3/lib/python3.9/site-packages (from ipython>=4.0.0->ipywidgets>=7.5.1->giotto-tda) (61.2.0)\n",
      "Requirement already satisfied: prompt-toolkit!=3.0.0,!=3.0.1,<3.1.0,>=2.0.0 in /Users/anupamchaudhauri/opt/miniconda3/lib/python3.9/site-packages (from ipython>=4.0.0->ipywidgets>=7.5.1->giotto-tda) (3.0.20)\n",
      "Requirement already satisfied: decorator in /Users/anupamchaudhauri/opt/miniconda3/lib/python3.9/site-packages (from ipython>=4.0.0->ipywidgets>=7.5.1->giotto-tda) (5.1.1)\n",
      "Requirement already satisfied: stack-data in /Users/anupamchaudhauri/opt/miniconda3/lib/python3.9/site-packages (from ipython>=4.0.0->ipywidgets>=7.5.1->giotto-tda) (0.2.0)\n",
      "Requirement already satisfied: jedi>=0.16 in /Users/anupamchaudhauri/opt/miniconda3/lib/python3.9/site-packages (from ipython>=4.0.0->ipywidgets>=7.5.1->giotto-tda) (0.18.1)\n",
      "Requirement already satisfied: parso<0.9.0,>=0.8.0 in /Users/anupamchaudhauri/opt/miniconda3/lib/python3.9/site-packages (from jedi>=0.16->ipython>=4.0.0->ipywidgets>=7.5.1->giotto-tda) (0.8.3)\n",
      "Requirement already satisfied: python-dateutil>=2.8.2 in /Users/anupamchaudhauri/opt/miniconda3/lib/python3.9/site-packages (from jupyter-client>=6.1.12->ipykernel>=4.5.1->ipywidgets>=7.5.1->giotto-tda) (2.8.2)\n",
      "Requirement already satisfied: entrypoints in /Users/anupamchaudhauri/opt/miniconda3/lib/python3.9/site-packages (from jupyter-client>=6.1.12->ipykernel>=4.5.1->ipywidgets>=7.5.1->giotto-tda) (0.4)\n",
      "Requirement already satisfied: jupyter-core>=4.9.2 in /Users/anupamchaudhauri/opt/miniconda3/lib/python3.9/site-packages (from jupyter-client>=6.1.12->ipykernel>=4.5.1->ipywidgets>=7.5.1->giotto-tda) (4.10.0)\n",
      "Requirement already satisfied: jsonschema>=2.6 in /Users/anupamchaudhauri/opt/miniconda3/lib/python3.9/site-packages (from nbformat>=4.2.0->ipywidgets>=7.5.1->giotto-tda) (4.16.0)\n",
      "Requirement already satisfied: fastjsonschema in /Users/anupamchaudhauri/opt/miniconda3/lib/python3.9/site-packages (from nbformat>=4.2.0->ipywidgets>=7.5.1->giotto-tda) (2.16.2)\n",
      "Requirement already satisfied: pyrsistent!=0.17.0,!=0.17.1,!=0.17.2,>=0.14.0 in /Users/anupamchaudhauri/opt/miniconda3/lib/python3.9/site-packages (from jsonschema>=2.6->nbformat>=4.2.0->ipywidgets>=7.5.1->giotto-tda) (0.18.0)\n",
      "Requirement already satisfied: attrs>=17.4.0 in /Users/anupamchaudhauri/opt/miniconda3/lib/python3.9/site-packages (from jsonschema>=2.6->nbformat>=4.2.0->ipywidgets>=7.5.1->giotto-tda) (21.4.0)\n",
      "Requirement already satisfied: ptyprocess>=0.5 in /Users/anupamchaudhauri/opt/miniconda3/lib/python3.9/site-packages (from pexpect>4.3->ipython>=4.0.0->ipywidgets>=7.5.1->giotto-tda) (0.7.0)\n",
      "Requirement already satisfied: tenacity>=6.2.0 in /Users/anupamchaudhauri/opt/miniconda3/lib/python3.9/site-packages (from plotly>=4.8.2->giotto-tda) (8.2.2)\n",
      "Requirement already satisfied: wcwidth in /Users/anupamchaudhauri/opt/miniconda3/lib/python3.9/site-packages (from prompt-toolkit!=3.0.0,!=3.0.1,<3.1.0,>=2.0.0->ipython>=4.0.0->ipywidgets>=7.5.1->giotto-tda) (0.2.5)\n",
      "Requirement already satisfied: six>=1.5 in /Users/anupamchaudhauri/opt/miniconda3/lib/python3.9/site-packages (from python-dateutil>=2.8.2->jupyter-client>=6.1.12->ipykernel>=4.5.1->ipywidgets>=7.5.1->giotto-tda) (1.16.0)\n",
      "Requirement already satisfied: threadpoolctl>=2.0.0 in /Users/anupamchaudhauri/opt/miniconda3/lib/python3.9/site-packages (from scikit-learn>=0.23.1->giotto-tda) (2.2.0)\n",
      "Requirement already satisfied: notebook>=4.4.1 in /Users/anupamchaudhauri/opt/miniconda3/lib/python3.9/site-packages (from widgetsnbextension~=3.5.0->ipywidgets>=7.5.1->giotto-tda) (6.4.12)\n"
     ]
    },
    {
     "name": "stdout",
     "output_type": "stream",
     "text": [
      "Requirement already satisfied: Send2Trash>=1.8.0 in /Users/anupamchaudhauri/opt/miniconda3/lib/python3.9/site-packages (from notebook>=4.4.1->widgetsnbextension~=3.5.0->ipywidgets>=7.5.1->giotto-tda) (1.8.0)\n",
      "Requirement already satisfied: jinja2 in /Users/anupamchaudhauri/opt/miniconda3/lib/python3.9/site-packages (from notebook>=4.4.1->widgetsnbextension~=3.5.0->ipywidgets>=7.5.1->giotto-tda) (3.0.3)\n",
      "Requirement already satisfied: nbconvert>=5 in /Users/anupamchaudhauri/opt/miniconda3/lib/python3.9/site-packages (from notebook>=4.4.1->widgetsnbextension~=3.5.0->ipywidgets>=7.5.1->giotto-tda) (6.4.4)\n",
      "Requirement already satisfied: argon2-cffi in /Users/anupamchaudhauri/opt/miniconda3/lib/python3.9/site-packages (from notebook>=4.4.1->widgetsnbextension~=3.5.0->ipywidgets>=7.5.1->giotto-tda) (21.3.0)\n",
      "Requirement already satisfied: prometheus-client in /Users/anupamchaudhauri/opt/miniconda3/lib/python3.9/site-packages (from notebook>=4.4.1->widgetsnbextension~=3.5.0->ipywidgets>=7.5.1->giotto-tda) (0.14.1)\n",
      "Requirement already satisfied: terminado>=0.8.3 in /Users/anupamchaudhauri/opt/miniconda3/lib/python3.9/site-packages (from notebook>=4.4.1->widgetsnbextension~=3.5.0->ipywidgets>=7.5.1->giotto-tda) (0.13.1)\n",
      "Requirement already satisfied: mistune<2,>=0.8.1 in /Users/anupamchaudhauri/opt/miniconda3/lib/python3.9/site-packages (from nbconvert>=5->notebook>=4.4.1->widgetsnbextension~=3.5.0->ipywidgets>=7.5.1->giotto-tda) (0.8.4)\n",
      "Requirement already satisfied: nbclient<0.6.0,>=0.5.0 in /Users/anupamchaudhauri/opt/miniconda3/lib/python3.9/site-packages (from nbconvert>=5->notebook>=4.4.1->widgetsnbextension~=3.5.0->ipywidgets>=7.5.1->giotto-tda) (0.5.13)\n",
      "Requirement already satisfied: pandocfilters>=1.4.1 in /Users/anupamchaudhauri/opt/miniconda3/lib/python3.9/site-packages (from nbconvert>=5->notebook>=4.4.1->widgetsnbextension~=3.5.0->ipywidgets>=7.5.1->giotto-tda) (1.5.0)\n",
      "Requirement already satisfied: testpath in /Users/anupamchaudhauri/opt/miniconda3/lib/python3.9/site-packages (from nbconvert>=5->notebook>=4.4.1->widgetsnbextension~=3.5.0->ipywidgets>=7.5.1->giotto-tda) (0.6.0)\n",
      "Requirement already satisfied: defusedxml in /Users/anupamchaudhauri/opt/miniconda3/lib/python3.9/site-packages (from nbconvert>=5->notebook>=4.4.1->widgetsnbextension~=3.5.0->ipywidgets>=7.5.1->giotto-tda) (0.7.1)\n",
      "Requirement already satisfied: bleach in /Users/anupamchaudhauri/opt/miniconda3/lib/python3.9/site-packages (from nbconvert>=5->notebook>=4.4.1->widgetsnbextension~=3.5.0->ipywidgets>=7.5.1->giotto-tda) (4.1.0)\n",
      "Requirement already satisfied: beautifulsoup4 in /Users/anupamchaudhauri/opt/miniconda3/lib/python3.9/site-packages (from nbconvert>=5->notebook>=4.4.1->widgetsnbextension~=3.5.0->ipywidgets>=7.5.1->giotto-tda) (4.11.1)\n",
      "Requirement already satisfied: jupyterlab-pygments in /Users/anupamchaudhauri/opt/miniconda3/lib/python3.9/site-packages (from nbconvert>=5->notebook>=4.4.1->widgetsnbextension~=3.5.0->ipywidgets>=7.5.1->giotto-tda) (0.1.2)\n",
      "Requirement already satisfied: MarkupSafe>=2.0 in /Users/anupamchaudhauri/opt/miniconda3/lib/python3.9/site-packages (from jinja2->notebook>=4.4.1->widgetsnbextension~=3.5.0->ipywidgets>=7.5.1->giotto-tda) (2.1.1)\n",
      "Requirement already satisfied: argon2-cffi-bindings in /Users/anupamchaudhauri/opt/miniconda3/lib/python3.9/site-packages (from argon2-cffi->notebook>=4.4.1->widgetsnbextension~=3.5.0->ipywidgets>=7.5.1->giotto-tda) (21.2.0)\n",
      "Requirement already satisfied: cffi>=1.0.1 in /Users/anupamchaudhauri/opt/miniconda3/lib/python3.9/site-packages (from argon2-cffi-bindings->argon2-cffi->notebook>=4.4.1->widgetsnbextension~=3.5.0->ipywidgets>=7.5.1->giotto-tda) (1.15.0)\n",
      "Requirement already satisfied: pycparser in /Users/anupamchaudhauri/opt/miniconda3/lib/python3.9/site-packages (from cffi>=1.0.1->argon2-cffi-bindings->argon2-cffi->notebook>=4.4.1->widgetsnbextension~=3.5.0->ipywidgets>=7.5.1->giotto-tda) (2.21)\n",
      "Requirement already satisfied: soupsieve>1.2 in /Users/anupamchaudhauri/opt/miniconda3/lib/python3.9/site-packages (from beautifulsoup4->nbconvert>=5->notebook>=4.4.1->widgetsnbextension~=3.5.0->ipywidgets>=7.5.1->giotto-tda) (2.3.1)\n",
      "Requirement already satisfied: webencodings in /Users/anupamchaudhauri/opt/miniconda3/lib/python3.9/site-packages (from bleach->nbconvert>=5->notebook>=4.4.1->widgetsnbextension~=3.5.0->ipywidgets>=7.5.1->giotto-tda) (0.5.1)\n",
      "Requirement already satisfied: pyparsing!=3.0.5,>=2.0.2 in /Users/anupamchaudhauri/opt/miniconda3/lib/python3.9/site-packages (from packaging->ipykernel>=4.5.1->ipywidgets>=7.5.1->giotto-tda) (3.0.9)\n",
      "Requirement already satisfied: asttokens in /Users/anupamchaudhauri/opt/miniconda3/lib/python3.9/site-packages (from stack-data->ipython>=4.0.0->ipywidgets>=7.5.1->giotto-tda) (2.0.5)\n",
      "Requirement already satisfied: pure-eval in /Users/anupamchaudhauri/opt/miniconda3/lib/python3.9/site-packages (from stack-data->ipython>=4.0.0->ipywidgets>=7.5.1->giotto-tda) (0.2.2)\n",
      "Requirement already satisfied: executing in /Users/anupamchaudhauri/opt/miniconda3/lib/python3.9/site-packages (from stack-data->ipython>=4.0.0->ipywidgets>=7.5.1->giotto-tda) (0.8.3)\n",
      "Note: you may need to restart the kernel to use updated packages.\n"
     ]
    }
   ],
   "source": [
    "pip install giotto-tda\n"
   ]
  },
  {
   "cell_type": "code",
   "execution_count": 7,
   "id": "1d7991c5",
   "metadata": {},
   "outputs": [],
   "source": [
    "from gtda.homology import VietorisRipsPersistence\n",
    "from gtda.diagrams import PersistenceEntropy\n",
    "from gtda.pipeline import make_pipeline"
   ]
  },
  {
   "cell_type": "code",
   "execution_count": 8,
   "id": "3df5fa38",
   "metadata": {},
   "outputs": [],
   "source": [
    "\n",
    "    \n",
    "    \n",
    "    \n",
    "    \n",
    "def pers_diag(dataset, n_samples=250):\n",
    "    x_real, _ = generate_real_samples(dataset, n_samples, replace=False)\n",
    "\n",
    "    VR_persistence = VietorisRipsPersistence(homology_dimensions=[0, 1, 2,3,4])\n",
    "    \n",
    "    #x_real_reshaped = x_real.reshape(-1, x_real.shape[-1], 1)\n",
    "    x_real_flat = x_real.reshape(n_samples, -1)  # Reshaping to (n_samples, 3072)\n",
    "    #x_real_flat_reshaped = x_real_flat[:,:,np.newaxis]\n",
    "    x_real_flat_reshaped = x_real_flat.reshape(1,x_real_flat.shape[0],x_real_flat.shape[1])\n",
    "\n",
    "    print(\"x_real_flat_reshaped.shape:\", x_real_flat_reshaped.shape)\n",
    "    print(\"x_real_flat_reshaped:\", x_real_flat_reshaped)\n",
    "    \n",
    "    Xt = VR_persistence.fit_transform(x_real_flat_reshaped)\n",
    "\n",
    "    # np.save(f\"Xt_epoch_{epoch}.npy\", Xt)\n",
    "    diagram_plt = VR_persistence.plot(Xt)\n",
    "\n",
    "    return diagram_plt\n",
    "\n",
    "    \n",
    "    \n",
    " \n",
    " "
   ]
  },
  {
   "cell_type": "code",
   "execution_count": 9,
   "id": "7b8d9a69",
   "metadata": {},
   "outputs": [],
   "source": [
    "#pers_diag(dataset)"
   ]
  },
  {
   "cell_type": "code",
   "execution_count": 10,
   "id": "ae2982d6",
   "metadata": {},
   "outputs": [],
   "source": [
    "#entro_109 = np.load(\"/Users/anupamchaudhauri/Desktop/Code_source/GAN_exp_1000/entropy_epoch_109.npy\")"
   ]
  },
  {
   "cell_type": "code",
   "execution_count": 11,
   "id": "014ba671",
   "metadata": {},
   "outputs": [],
   "source": [
    " xt_109 = np.load(\"/Users/anupamchaudhauri/Desktop/Code_source/GAN_exp_1000/Xt_epoch_109.npy\")"
   ]
  },
  {
   "cell_type": "code",
   "execution_count": 12,
   "id": "5cbe6849",
   "metadata": {},
   "outputs": [],
   "source": [
    "VR_persistence = VietorisRipsPersistence(homology_dimensions=[0, 1, 2], n_jobs = -1)"
   ]
  },
  {
   "cell_type": "code",
   "execution_count": 13,
   "id": "c2b82989",
   "metadata": {},
   "outputs": [],
   "source": [
    "#pipeline = make_pipeline(VR_persistence, PersistenceEntropy())\n",
    "# Fit and transform\n",
    "#entropy = pipeline.fit_transform(xt_109)\n"
   ]
  },
  {
   "cell_type": "code",
   "execution_count": 14,
   "id": "a3aa6948",
   "metadata": {},
   "outputs": [],
   "source": [
    "from gtda.diagrams import PersistenceEntropy\n",
    "PE = PersistenceEntropy()\n",
    "features = PE.fit_transform(xt_109)"
   ]
  },
  {
   "cell_type": "code",
   "execution_count": 15,
   "id": "746c438f",
   "metadata": {},
   "outputs": [
    {
     "data": {
      "text/plain": [
       "array([[9.95, 9.81, 9.23]])"
      ]
     },
     "execution_count": 15,
     "metadata": {},
     "output_type": "execute_result"
    }
   ],
   "source": [
    "features"
   ]
  },
  {
   "cell_type": "code",
   "execution_count": 16,
   "id": "3247fe36",
   "metadata": {},
   "outputs": [],
   "source": [
    "from gtda.diagrams import Amplitude\n",
    "AMP = Amplitude(metric=\"wasserstein\")"
   ]
  },
  {
   "cell_type": "code",
   "execution_count": 17,
   "id": "3722a34b",
   "metadata": {},
   "outputs": [],
   "source": [
    "\n",
    "epochs = list(range(9, 200, 10))\n",
    "\n",
    "xt = {}\n",
    "entropy = {}\n",
    "amps = {}\n",
    "\n",
    "for i in epochs:\n",
    "    file_path = f\"/Users/anupamchaudhauri/Desktop/Code_source/GAN_exp_1000/Xt_epoch_{i}.npy\"\n",
    "    xt[i] = np.load(file_path)\n",
    "    # Do something with xt_i, like storing it in a dictionary or processing it\n",
    "    entropy[i] = PE.fit_transform(xt[i])\n",
    "    # conjecture: lifespansum is proportional to wasserstein distance from trivial (diagonal) diagram\n",
    "    amps[i] = AMP.fit_transform(xt[i])\n"
   ]
  },
  {
   "cell_type": "code",
   "execution_count": 18,
   "id": "8ddd5691",
   "metadata": {},
   "outputs": [
    {
     "data": {
      "text/plain": [
       "{9: array([[9.8 , 8.57, 7.35]]),\n",
       " 19: array([[9.9, 9.2, 8.2]]),\n",
       " 29: array([[9.95, 9.88, 9.73]]),\n",
       " 39: array([[9.94, 9.71, 9.21]]),\n",
       " 49: array([[ 9.94, 10.01, 10.04]]),\n",
       " 59: array([[ 9.95, 10.06,  9.93]]),\n",
       " 69: array([[9.94, 9.81, 9.31]]),\n",
       " 79: array([[9.95, 9.9 , 9.63]]),\n",
       " 89: array([[9.94, 9.39, 8.48]]),\n",
       " 99: array([[9.95, 9.7 , 9.16]]),\n",
       " 109: array([[9.95, 9.81, 9.23]]),\n",
       " 119: array([[9.95, 9.54, 8.57]]),\n",
       " 129: array([[9.95, 9.82, 9.49]]),\n",
       " 139: array([[9.95, 9.44, 8.48]]),\n",
       " 149: array([[9.95, 9.09, 7.76]]),\n",
       " 159: array([[9.94, 8.6 , 6.84]]),\n",
       " 169: array([[9.94, 8.68, 7.04]]),\n",
       " 179: array([[9.95, 8.92, 7.69]]),\n",
       " 189: array([[9.95, 8.95, 7.61]]),\n",
       " 199: array([[9.94, 8.78, 7.22]])}"
      ]
     },
     "execution_count": 18,
     "metadata": {},
     "output_type": "execute_result"
    }
   ],
   "source": [
    "entropy"
   ]
  },
  {
   "cell_type": "code",
   "execution_count": 19,
   "id": "9ba96ef0",
   "metadata": {},
   "outputs": [
    {
     "data": {
      "text/plain": [
       "{9: array([[63.53,  7.06,  1.57]]),\n",
       " 19: array([[165.46,  19.22,   7.14]]),\n",
       " 29: array([[280.31,  29.56,  13.46]]),\n",
       " 39: array([[255.84,  21.12,   8.97]]),\n",
       " 49: array([[332.24,  29.69,  15.75]]),\n",
       " 59: array([[324.81,  28.08,  13.57]]),\n",
       " 69: array([[292.89,  20.75,   8.37]]),\n",
       " 79: array([[288.55,  23.35,  10.47]]),\n",
       " 89: array([[305.04,  18.18,   6.24]]),\n",
       " 99: array([[255.11,  19.54,   8.01]]),\n",
       " 109: array([[274.84,  17.96,   7.04]]),\n",
       " 119: array([[315.81,  15.43,   6.17]]),\n",
       " 129: array([[367.36,  24.78,  10.95]]),\n",
       " 139: array([[308.66,  14.38,   4.94]]),\n",
       " 149: array([[329.41,  14.31,   5.24]]),\n",
       " 159: array([[317.32,  10.11,   2.54]]),\n",
       " 169: array([[351.37,  11.46,   3.26]]),\n",
       " 179: array([[352.83,  11.58,   3.78]]),\n",
       " 189: array([[359.69,  12.73,   3.91]]),\n",
       " 199: array([[331.43,  10.25,   2.94]])}"
      ]
     },
     "execution_count": 19,
     "metadata": {},
     "output_type": "execute_result"
    }
   ],
   "source": [
    "amps"
   ]
  },
  {
   "cell_type": "code",
   "execution_count": 20,
   "id": "315afc2a",
   "metadata": {},
   "outputs": [],
   "source": [
    "xt_real = np.load(\"/Users/anupamchaudhauri/Desktop/Code_source/GAN_exp_1000/Xt_real.npy\")"
   ]
  },
  {
   "cell_type": "code",
   "execution_count": 21,
   "id": "b8277a94",
   "metadata": {},
   "outputs": [],
   "source": [
    "entropy_real = PE.fit_transform(xt_real)"
   ]
  },
  {
   "cell_type": "code",
   "execution_count": 22,
   "id": "1b8325bd",
   "metadata": {},
   "outputs": [
    {
     "data": {
      "text/plain": [
       "array([[9.94, 7.48, 5.36]])"
      ]
     },
     "execution_count": 22,
     "metadata": {},
     "output_type": "execute_result"
    }
   ],
   "source": [
    "entropy_real"
   ]
  },
  {
   "cell_type": "code",
   "execution_count": 23,
   "id": "44e6df12",
   "metadata": {},
   "outputs": [],
   "source": [
    "ams_real = AMP.fit_transform(xt_real)"
   ]
  },
  {
   "cell_type": "code",
   "execution_count": 24,
   "id": "a1f7894f",
   "metadata": {},
   "outputs": [
    {
     "data": {
      "text/plain": [
       "array([[349.44,   6.42,   1.47]])"
      ]
     },
     "execution_count": 24,
     "metadata": {},
     "output_type": "execute_result"
    }
   ],
   "source": [
    "ams_real"
   ]
  },
  {
   "cell_type": "code",
   "execution_count": 25,
   "id": "856c432b",
   "metadata": {},
   "outputs": [],
   "source": [
    "epochs = list(range(9, 500, 10))\n",
    "\n",
    "xt_epoch_500 = {}\n",
    "entropy_epoch_500 = {}\n",
    "amps_epoch_500 = {}\n",
    "\n",
    "for i in epochs:\n",
    "    file_path = f\"/Users/anupamchaudhauri/Desktop/Code_source/GAN_exp_1000_epoch_500/Xt_epoch_{i}.npy\"\n",
    "    xt_epoch_500[i] = np.load(file_path)\n",
    "    # Do something with xt_i, like storing it in a dictionary or processing it\n",
    "    entropy_epoch_500[i] = PE.fit_transform(xt_epoch_500[i])\n",
    "    # conjecture: lifespansum is proportional to wasserstein distance from trivial (diagonal) diagram\n",
    "    amps_epoch_500[i] = AMP.fit_transform(xt_epoch_500[i])\n"
   ]
  },
  {
   "cell_type": "code",
   "execution_count": 26,
   "id": "95dc30ec",
   "metadata": {},
   "outputs": [
    {
     "data": {
      "text/plain": [
       "{9: array([[9.87, 8.55, 6.64]]),\n",
       " 19: array([[9.89, 9.32, 8.42]]),\n",
       " 29: array([[9.94, 9.88, 9.75]]),\n",
       " 39: array([[9.93, 9.86, 9.67]]),\n",
       " 49: array([[9.94, 9.92, 9.99]]),\n",
       " 59: array([[9.94, 9.69, 9.05]]),\n",
       " 69: array([[9.94, 9.33, 8.3 ]]),\n",
       " 79: array([[9.95, 9.71, 9.36]]),\n",
       " 89: array([[9.94, 9.35, 8.55]]),\n",
       " 99: array([[9.96, 9.9 , 9.54]]),\n",
       " 109: array([[9.94, 9.11, 7.99]]),\n",
       " 119: array([[9.94, 9.41, 8.32]]),\n",
       " 129: array([[9.95, 9.66, 9.08]]),\n",
       " 139: array([[9.94, 8.93, 7.51]]),\n",
       " 149: array([[9.94, 8.64, 7.16]]),\n",
       " 159: array([[9.93, 8.21, 6.68]]),\n",
       " 169: array([[9.94, 9.15, 8.22]]),\n",
       " 179: array([[9.94, 8.87, 7.88]]),\n",
       " 189: array([[9.94, 8.86, 7.59]]),\n",
       " 199: array([[9.93, 8.18, 6.36]]),\n",
       " 209: array([[9.93, 8.46, 6.6 ]]),\n",
       " 219: array([[9.92, 8.53, 6.8 ]]),\n",
       " 229: array([[9.94, 8.52, 6.91]]),\n",
       " 239: array([[9.94, 9.04, 7.87]]),\n",
       " 249: array([[9.95, 8.95, 7.43]]),\n",
       " 259: array([[9.94, 8.76, 7.56]]),\n",
       " 269: array([[9.94, 8.6 , 7.06]]),\n",
       " 279: array([[9.94, 8.65, 7.11]]),\n",
       " 289: array([[9.94, 8.7 , 7.12]]),\n",
       " 299: array([[9.94, 8.65, 6.65]]),\n",
       " 309: array([[9.93, 8.37, 6.64]]),\n",
       " 319: array([[9.94, 8.34, 6.2 ]]),\n",
       " 329: array([[9.94, 8.66, 7.08]]),\n",
       " 339: array([[9.94, 8.39, 6.49]]),\n",
       " 349: array([[9.93, 8.14, 6.37]]),\n",
       " 359: array([[9.94, 8.22, 6.51]]),\n",
       " 369: array([[9.94, 8.52, 7.04]]),\n",
       " 379: array([[9.93, 8.37, 6.63]]),\n",
       " 389: array([[9.95, 8.65, 7.34]]),\n",
       " 399: array([[9.94, 8.72, 7.25]]),\n",
       " 409: array([[9.93, 7.85, 5.7 ]]),\n",
       " 419: array([[9.93, 7.97, 5.96]]),\n",
       " 429: array([[9.93, 8.03, 5.95]]),\n",
       " 439: array([[9.94, 8.45, 6.66]]),\n",
       " 449: array([[9.94, 7.95, 5.68]]),\n",
       " 459: array([[9.94, 8.34, 6.45]]),\n",
       " 469: array([[9.93, 8.15, 6.47]]),\n",
       " 479: array([[9.93, 7.82, 5.5 ]]),\n",
       " 489: array([[9.93, 7.98, 5.71]]),\n",
       " 499: array([[9.93, 7.98, 5.74]])}"
      ]
     },
     "execution_count": 26,
     "metadata": {},
     "output_type": "execute_result"
    }
   ],
   "source": [
    "entropy_epoch_500"
   ]
  },
  {
   "cell_type": "code",
   "execution_count": 27,
   "id": "e8514d1c",
   "metadata": {},
   "outputs": [
    {
     "data": {
      "text/plain": [
       "{9: array([[89.88, 12.29,  3.47]]),\n",
       " 19: array([[195.18,  21.88,   8.45]]),\n",
       " 29: array([[262.53,  26.73,  13.04]]),\n",
       " 39: array([[290.69,  25.95,  12.39]]),\n",
       " 49: array([[304.54,  27.5 ,  13.8 ]]),\n",
       " 59: array([[333.94,  23.28,   9.79]]),\n",
       " 69: array([[284.38,  18.42,   6.56]]),\n",
       " 79: array([[312.48,  22.04,   8.9 ]]),\n",
       " 89: array([[291.44,  18.52,   7.  ]]),\n",
       " 99: array([[310.4 ,  20.5 ,   8.02]]),\n",
       " 109: array([[326.35,  13.85,   3.96]]),\n",
       " 119: array([[298.27,  11.42,   4.23]]),\n",
       " 129: array([[347.13,  16.83,   6.59]]),\n",
       " 139: array([[318.19,  10.23,   3.14]]),\n",
       " 149: array([[345.42,  10.13,   3.01]]),\n",
       " 159: array([[293.17,   8.12,   2.61]]),\n",
       " 169: array([[328.94,  13.01,   4.86]]),\n",
       " 179: array([[344.94,  11.4 ,   3.87]]),\n",
       " 189: array([[301.77,  10.93,   3.18]]),\n",
       " 199: array([[357.92,   7.37,   1.93]]),\n",
       " 209: array([[316.87,   7.58,   2.04]]),\n",
       " 219: array([[371.33,  12.46,   3.29]]),\n",
       " 229: array([[347.53,   9.26,   2.42]]),\n",
       " 239: array([[345.15,  12.94,   4.28]]),\n",
       " 249: array([[382.18,  11.19,   3.71]]),\n",
       " 259: array([[326.97,  10.94,   3.58]]),\n",
       " 269: array([[321.69,   9.48,   2.46]]),\n",
       " 279: array([[339.19,   9.02,   2.7 ]]),\n",
       " 289: array([[330.75,   9.77,   3.01]]),\n",
       " 299: array([[326.8 ,   8.97,   2.42]]),\n",
       " 309: array([[331.63,   8.75,   2.28]]),\n",
       " 319: array([[320.62,   8.65,   1.66]]),\n",
       " 329: array([[310.46,   9.73,   2.57]]),\n",
       " 339: array([[322.73,   8.69,   2.44]]),\n",
       " 349: array([[339.15,   7.75,   2.22]]),\n",
       " 359: array([[326.84,   7.4 ,   1.69]]),\n",
       " 369: array([[319.53,   9.75,   2.69]]),\n",
       " 379: array([[309.47,   8.77,   2.62]]),\n",
       " 389: array([[329.35,   9.98,   3.44]]),\n",
       " 399: array([[323.31,   9.9 ,   3.42]]),\n",
       " 409: array([[322.92,   6.86,   1.4 ]]),\n",
       " 419: array([[327.7 ,   7.12,   1.68]]),\n",
       " 429: array([[321.14,   7.38,   2.06]]),\n",
       " 439: array([[335.69,   8.99,   2.24]]),\n",
       " 449: array([[324.72,   7.41,   1.76]]),\n",
       " 459: array([[327.79,   8.51,   1.94]]),\n",
       " 469: array([[311.52,   7.29,   1.92]]),\n",
       " 479: array([[317.8 ,   6.1 ,   1.48]]),\n",
       " 489: array([[320.16,   7.6 ,   1.75]]),\n",
       " 499: array([[317.97,   7.45,   1.34]])}"
      ]
     },
     "execution_count": 27,
     "metadata": {},
     "output_type": "execute_result"
    }
   ],
   "source": [
    "amps_epoch_500"
   ]
  },
  {
   "cell_type": "code",
   "execution_count": 28,
   "id": "74f93f12",
   "metadata": {},
   "outputs": [],
   "source": [
    "xt_real_epoch_500 = np.load(\"/Users/anupamchaudhauri/Desktop/Code_source/GAN_exp_1000_epoch_500/Xt_real.npy\")"
   ]
  },
  {
   "cell_type": "code",
   "execution_count": 29,
   "id": "dbfa53a1",
   "metadata": {},
   "outputs": [],
   "source": [
    "entropy_real_epoch_500 = PE.fit_transform(xt_real_epoch_500)"
   ]
  },
  {
   "cell_type": "code",
   "execution_count": 30,
   "id": "5ac0ffff",
   "metadata": {},
   "outputs": [],
   "source": [
    "ams_real_epoch_500 = AMP.fit_transform(xt_real_epoch_500)"
   ]
  },
  {
   "cell_type": "code",
   "execution_count": 31,
   "id": "75aba4d7",
   "metadata": {},
   "outputs": [
    {
     "data": {
      "text/plain": [
       "array([[9.94, 7.55, 5.12]])"
      ]
     },
     "execution_count": 31,
     "metadata": {},
     "output_type": "execute_result"
    }
   ],
   "source": [
    "entropy_real_epoch_500"
   ]
  },
  {
   "cell_type": "code",
   "execution_count": 32,
   "id": "3c6c8f3a",
   "metadata": {},
   "outputs": [
    {
     "data": {
      "text/plain": [
       "array([[355.74,   6.18,   1.37]])"
      ]
     },
     "execution_count": 32,
     "metadata": {},
     "output_type": "execute_result"
    }
   ],
   "source": [
    "ams_real_epoch_500"
   ]
  },
  {
   "cell_type": "code",
   "execution_count": 33,
   "id": "197a321e",
   "metadata": {},
   "outputs": [],
   "source": [
    "import sys\n",
    "sys.path.append(\"/Users/anupamchaudhauri/Desktop/Code_source/eulearning\")\n"
   ]
  },
  {
   "cell_type": "code",
   "execution_count": 34,
   "id": "2bc107fc",
   "metadata": {},
   "outputs": [
    {
     "name": "stdout",
     "output_type": "stream",
     "text": [
      "Requirement already satisfied: numba in /Users/anupamchaudhauri/opt/miniconda3/lib/python3.9/site-packages (0.58.1)\n",
      "Requirement already satisfied: llvmlite<0.42,>=0.41.0dev0 in /Users/anupamchaudhauri/opt/miniconda3/lib/python3.9/site-packages (from numba) (0.41.1)\n",
      "Requirement already satisfied: numpy<1.27,>=1.22 in /Users/anupamchaudhauri/opt/miniconda3/lib/python3.9/site-packages (from numba) (1.25.0)\n",
      "Note: you may need to restart the kernel to use updated packages.\n"
     ]
    }
   ],
   "source": [
    "pip install numba\n"
   ]
  },
  {
   "cell_type": "code",
   "execution_count": 35,
   "id": "9bd51a72",
   "metadata": {},
   "outputs": [
    {
     "name": "stdout",
     "output_type": "stream",
     "text": [
      "Requirement already satisfied: tadasets in /Users/anupamchaudhauri/opt/miniconda3/lib/python3.9/site-packages (0.0.4)\n",
      "Requirement already satisfied: matplotlib in /Users/anupamchaudhauri/opt/miniconda3/lib/python3.9/site-packages (from tadasets) (3.7.1)\n",
      "Requirement already satisfied: numpy in /Users/anupamchaudhauri/opt/miniconda3/lib/python3.9/site-packages (from tadasets) (1.25.0)\n",
      "Requirement already satisfied: python-dateutil>=2.7 in /Users/anupamchaudhauri/opt/miniconda3/lib/python3.9/site-packages (from matplotlib->tadasets) (2.8.2)\n",
      "Requirement already satisfied: pillow>=6.2.0 in /Users/anupamchaudhauri/opt/miniconda3/lib/python3.9/site-packages (from matplotlib->tadasets) (9.4.0)\n",
      "Requirement already satisfied: cycler>=0.10 in /Users/anupamchaudhauri/opt/miniconda3/lib/python3.9/site-packages (from matplotlib->tadasets) (0.11.0)\n",
      "Requirement already satisfied: contourpy>=1.0.1 in /Users/anupamchaudhauri/opt/miniconda3/lib/python3.9/site-packages (from matplotlib->tadasets) (1.0.5)\n",
      "Requirement already satisfied: importlib-resources>=3.2.0 in /Users/anupamchaudhauri/opt/miniconda3/lib/python3.9/site-packages (from matplotlib->tadasets) (5.2.0)\n",
      "Requirement already satisfied: kiwisolver>=1.0.1 in /Users/anupamchaudhauri/opt/miniconda3/lib/python3.9/site-packages (from matplotlib->tadasets) (1.4.4)\n",
      "Requirement already satisfied: fonttools>=4.22.0 in /Users/anupamchaudhauri/opt/miniconda3/lib/python3.9/site-packages (from matplotlib->tadasets) (4.25.0)\n",
      "Requirement already satisfied: packaging>=20.0 in /Users/anupamchaudhauri/opt/miniconda3/lib/python3.9/site-packages (from matplotlib->tadasets) (21.3)\n",
      "Requirement already satisfied: pyparsing>=2.3.1 in /Users/anupamchaudhauri/opt/miniconda3/lib/python3.9/site-packages (from matplotlib->tadasets) (3.0.9)\n",
      "Requirement already satisfied: zipp>=3.1.0 in /Users/anupamchaudhauri/opt/miniconda3/lib/python3.9/site-packages (from importlib-resources>=3.2.0->matplotlib->tadasets) (3.11.0)\n",
      "Requirement already satisfied: six>=1.5 in /Users/anupamchaudhauri/opt/miniconda3/lib/python3.9/site-packages (from python-dateutil>=2.7->matplotlib->tadasets) (1.16.0)\n",
      "Note: you may need to restart the kernel to use updated packages.\n"
     ]
    }
   ],
   "source": [
    "pip install tadasets\n"
   ]
  },
  {
   "cell_type": "code",
   "execution_count": 36,
   "id": "2b55b2c1",
   "metadata": {},
   "outputs": [
    {
     "name": "stdout",
     "output_type": "stream",
     "text": [
      "Requirement already satisfied: Gudhi in /Users/anupamchaudhauri/opt/miniconda3/lib/python3.9/site-packages (3.8.0)\n",
      "Requirement already satisfied: numpy>=1.15.0 in /Users/anupamchaudhauri/opt/miniconda3/lib/python3.9/site-packages (from Gudhi) (1.25.0)\n",
      "Note: you may need to restart the kernel to use updated packages.\n"
     ]
    }
   ],
   "source": [
    "pip install Gudhi"
   ]
  },
  {
   "cell_type": "code",
   "execution_count": 37,
   "id": "7f7b4d07",
   "metadata": {},
   "outputs": [
    {
     "name": "stdout",
     "output_type": "stream",
     "text": [
      "Requirement already satisfied: Cython in /Users/anupamchaudhauri/opt/miniconda3/lib/python3.9/site-packages (3.0.5)\n",
      "Note: you may need to restart the kernel to use updated packages.\n"
     ]
    }
   ],
   "source": [
    "pip install Cython"
   ]
  },
  {
   "cell_type": "code",
   "execution_count": 38,
   "id": "ec647f94",
   "metadata": {},
   "outputs": [
    {
     "name": "stdout",
     "output_type": "stream",
     "text": [
      "Requirement already satisfied: networkx in /Users/anupamchaudhauri/opt/miniconda3/lib/python3.9/site-packages (3.2.1)\n",
      "Note: you may need to restart the kernel to use updated packages.\n"
     ]
    }
   ],
   "source": [
    "pip install networkx"
   ]
  },
  {
   "cell_type": "code",
   "execution_count": null,
   "id": "48f408c9",
   "metadata": {},
   "outputs": [],
   "source": []
  },
  {
   "cell_type": "code",
   "execution_count": null,
   "id": "c818612a",
   "metadata": {},
   "outputs": [],
   "source": []
  },
  {
   "cell_type": "code",
   "execution_count": null,
   "id": "c90fea02",
   "metadata": {},
   "outputs": [],
   "source": []
  },
  {
   "cell_type": "code",
   "execution_count": null,
   "id": "277f3d40",
   "metadata": {},
   "outputs": [],
   "source": []
  },
  {
   "cell_type": "code",
   "execution_count": 39,
   "id": "e1e60c85",
   "metadata": {},
   "outputs": [],
   "source": [
    "#!pip uninstall GraphRicciCurvature"
   ]
  },
  {
   "cell_type": "code",
   "execution_count": 40,
   "id": "6c806d28",
   "metadata": {},
   "outputs": [
    {
     "name": "stdout",
     "output_type": "stream",
     "text": [
      "Requirement already satisfied: GraphRicciCurvature in /Users/anupamchaudhauri/opt/miniconda3/lib/python3.9/site-packages (0.5.3.1)\r\n",
      "Requirement already satisfied: networkx>=2.0 in /Users/anupamchaudhauri/opt/miniconda3/lib/python3.9/site-packages (from GraphRicciCurvature) (3.2.1)\r\n",
      "Requirement already satisfied: scipy>=1.0 in /Users/anupamchaudhauri/opt/miniconda3/lib/python3.9/site-packages (from GraphRicciCurvature) (1.10.1)\r\n",
      "Requirement already satisfied: packaging in /Users/anupamchaudhauri/opt/miniconda3/lib/python3.9/site-packages (from GraphRicciCurvature) (21.3)\r\n",
      "Requirement already satisfied: pot>=0.8.0 in /Users/anupamchaudhauri/opt/miniconda3/lib/python3.9/site-packages (from GraphRicciCurvature) (0.9.1)\r\n",
      "Requirement already satisfied: numpy in /Users/anupamchaudhauri/opt/miniconda3/lib/python3.9/site-packages (from GraphRicciCurvature) (1.25.0)\r\n",
      "Requirement already satisfied: networkit>=6.1 in /Users/anupamchaudhauri/opt/miniconda3/lib/python3.9/site-packages (from GraphRicciCurvature) (10.0)\r\n",
      "Requirement already satisfied: python-louvain in /Users/anupamchaudhauri/opt/miniconda3/lib/python3.9/site-packages (from GraphRicciCurvature) (0.16)\r\n",
      "Requirement already satisfied: cython in /Users/anupamchaudhauri/opt/miniconda3/lib/python3.9/site-packages (from GraphRicciCurvature) (3.0.5)\r\n",
      "Requirement already satisfied: pyparsing!=3.0.5,>=2.0.2 in /Users/anupamchaudhauri/opt/miniconda3/lib/python3.9/site-packages (from packaging->GraphRicciCurvature) (3.0.9)\r\n"
     ]
    }
   ],
   "source": [
    "!pip install GraphRicciCurvature"
   ]
  },
  {
   "cell_type": "code",
   "execution_count": 41,
   "id": "390eb2ca",
   "metadata": {},
   "outputs": [
    {
     "data": {
      "text/html": [
       "\n",
       "\t\t\t<script type=\"text/javascript\">\n",
       "\t\t\t<!--\n",
       "\t\t\t\t\n",
       "\t\t\t{\n",
       "\t\t\t\tvar element = document.getElementById('NetworKit_script');\n",
       "\t\t\t\tif (element) {\n",
       "\t\t\t\t\telement.parentNode.removeChild(element);\n",
       "\t\t\t\t}\n",
       "\t\t\t\telement = document.createElement('script');\n",
       "\t\t\t\telement.type = 'text/javascript';\n",
       "\t\t\t\telement.innerHTML = 'function NetworKit_pageEmbed(id) { var i, j; var elements; elements = document.getElementById(id).getElementsByClassName(\"Plot\"); for (i=0; i<elements.length; i++) { elements[i].id = id + \"_Plot_\" + i; var data = elements[i].getAttribute(\"data-image\").split(\"|\"); elements[i].removeAttribute(\"data-image\"); var content = \"<div class=\\\\\"Image\\\\\" id=\\\\\"\" + elements[i].id + \"_Image\\\\\" />\"; elements[i].innerHTML = content; elements[i].setAttribute(\"data-image-index\", 0); elements[i].setAttribute(\"data-image-length\", data.length); for (j=0; j<data.length; j++) { elements[i].setAttribute(\"data-image-\" + j, data[j]); } NetworKit_plotUpdate(elements[i]); elements[i].onclick = function (e) { NetworKit_overlayShow((e.target) ? e.target : e.srcElement); } } elements = document.getElementById(id).getElementsByClassName(\"HeatCell\"); for (i=0; i<elements.length; i++) { var data = parseFloat(elements[i].getAttribute(\"data-heat\")); var color = \"#00FF00\"; if (data <= 1 && data > 0) { color = \"hsla(0, 100%, 75%, \" + (data) + \")\"; } else if (data <= 0 && data >= -1) { color = \"hsla(240, 100%, 75%, \" + (-data) + \")\"; } elements[i].style.backgroundColor = color; } elements = document.getElementById(id).getElementsByClassName(\"Details\"); for (i=0; i<elements.length; i++) { elements[i].setAttribute(\"data-title\", \"-\"); NetworKit_toggleDetails(elements[i]); elements[i].onclick = function (e) { NetworKit_toggleDetails((e.target) ? e.target : e.srcElement); } } elements = document.getElementById(id).getElementsByClassName(\"MathValue\"); for (i=elements.length-1; i>=0; i--) { value = elements[i].innerHTML.trim(); if (value === \"nan\") { elements[i].parentNode.innerHTML = \"\" } } elements = document.getElementById(id).getElementsByClassName(\"SubCategory\"); for (i=elements.length-1; i>=0; i--) { value = elements[i].innerHTML.trim(); if (value === \"\") { elements[i].parentNode.removeChild(elements[i]) } } elements = document.getElementById(id).getElementsByClassName(\"Category\"); for (i=elements.length-1; i>=0; i--) { value = elements[i].innerHTML.trim(); if (value === \"\") { elements[i].parentNode.removeChild(elements[i]) } } var isFirefox = false; try { isFirefox = typeof InstallTrigger !== \"undefined\"; } catch (e) {} if (!isFirefox) { alert(\"Currently the function\\'s output is only fully supported by Firefox.\"); } } function NetworKit_plotUpdate(source) { var index = source.getAttribute(\"data-image-index\"); var data = source.getAttribute(\"data-image-\" + index); var image = document.getElementById(source.id + \"_Image\"); image.style.backgroundImage = \"url(\" + data + \")\"; } function NetworKit_showElement(id, show) { var element = document.getElementById(id); element.style.display = (show) ? \"block\" : \"none\"; } function NetworKit_overlayShow(source) { NetworKit_overlayUpdate(source); NetworKit_showElement(\"NetworKit_Overlay\", true); } function NetworKit_overlayUpdate(source) { document.getElementById(\"NetworKit_Overlay_Title\").innerHTML = source.title; var index = source.getAttribute(\"data-image-index\"); var data = source.getAttribute(\"data-image-\" + index); var image = document.getElementById(\"NetworKit_Overlay_Image\"); image.setAttribute(\"data-id\", source.id); image.style.backgroundImage = \"url(\" + data + \")\"; var link = document.getElementById(\"NetworKit_Overlay_Toolbar_Bottom_Save\"); link.href = data; link.download = source.title + \".svg\"; } function NetworKit_overlayImageShift(delta) { var image = document.getElementById(\"NetworKit_Overlay_Image\"); var source = document.getElementById(image.getAttribute(\"data-id\")); var index = parseInt(source.getAttribute(\"data-image-index\")); var length = parseInt(source.getAttribute(\"data-image-length\")); var index = (index+delta) % length; if (index < 0) { index = length + index; } source.setAttribute(\"data-image-index\", index); NetworKit_overlayUpdate(source); } function NetworKit_toggleDetails(source) { var childs = source.children; var show = false; if (source.getAttribute(\"data-title\") == \"-\") { source.setAttribute(\"data-title\", \"+\"); show = false; } else { source.setAttribute(\"data-title\", \"-\"); show = true; } for (i=0; i<childs.length; i++) { if (show) { childs[i].style.display = \"block\"; } else { childs[i].style.display = \"none\"; } } }';\n",
       "\t\t\t\telement.setAttribute('id', 'NetworKit_script');\n",
       "\t\t\t\tdocument.head.appendChild(element);\n",
       "\t\t\t}\n",
       "\t\t\n",
       "\t\t\t\t\n",
       "\t\t\t{\n",
       "\t\t\t\tvar element = document.getElementById('NetworKit_style');\n",
       "\t\t\t\tif (element) {\n",
       "\t\t\t\t\telement.parentNode.removeChild(element);\n",
       "\t\t\t\t}\n",
       "\t\t\t\telement = document.createElement('style');\n",
       "\t\t\t\telement.type = 'text/css';\n",
       "\t\t\t\telement.innerHTML = '.NetworKit_Page { font-family: Arial, Helvetica, sans-serif; font-size: 14px; } .NetworKit_Page .Value:before { font-family: Arial, Helvetica, sans-serif; font-size: 1.05em; content: attr(data-title) \":\"; margin-left: -2.5em; padding-right: 0.5em; } .NetworKit_Page .Details .Value:before { display: block; } .NetworKit_Page .Value { font-family: monospace; white-space: pre; padding-left: 2.5em; white-space: -moz-pre-wrap !important; white-space: -pre-wrap; white-space: -o-pre-wrap; white-space: pre-wrap; word-wrap: break-word; tab-size: 4; -moz-tab-size: 4; } .NetworKit_Page .Category { clear: both; padding-left: 1em; margin-bottom: 1.5em; } .NetworKit_Page .Category:before { content: attr(data-title); font-size: 1.75em; display: block; margin-left: -0.8em; margin-bottom: 0.5em; } .NetworKit_Page .SubCategory { margin-bottom: 1.5em; padding-left: 1em; } .NetworKit_Page .SubCategory:before { font-size: 1.6em; display: block; margin-left: -0.8em; margin-bottom: 0.5em; } .NetworKit_Page .SubCategory[data-title]:before { content: attr(data-title); } .NetworKit_Page .Block { display: block; } .NetworKit_Page .Block:after { content: \".\"; visibility: hidden; display: block; height: 0; clear: both; } .NetworKit_Page .Block .Thumbnail_Overview, .NetworKit_Page .Block .Thumbnail_ScatterPlot { width: 260px; float: left; } .NetworKit_Page .Block .Thumbnail_Overview img, .NetworKit_Page .Block .Thumbnail_ScatterPlot img { width: 260px; } .NetworKit_Page .Block .Thumbnail_Overview:before, .NetworKit_Page .Block .Thumbnail_ScatterPlot:before { display: block; text-align: center; font-weight: bold; } .NetworKit_Page .Block .Thumbnail_Overview:before { content: attr(data-title); } .NetworKit_Page .HeatCell { font-family: \"Courier New\", Courier, monospace; cursor: pointer; } .NetworKit_Page .HeatCell, .NetworKit_Page .HeatCellName { display: inline; padding: 0.1em; margin-right: 2px; background-color: #FFFFFF } .NetworKit_Page .HeatCellName { margin-left: 0.25em; } .NetworKit_Page .HeatCell:before { content: attr(data-heat); display: inline-block; color: #000000; width: 4em; text-align: center; } .NetworKit_Page .Measure { clear: both; } .NetworKit_Page .Measure .Details { cursor: pointer; } .NetworKit_Page .Measure .Details:before { content: \"[\" attr(data-title) \"]\"; display: block; } .NetworKit_Page .Measure .Details .Value { border-left: 1px dotted black; margin-left: 0.4em; padding-left: 3.5em; pointer-events: none; } .NetworKit_Page .Measure .Details .Spacer:before { content: \".\"; opacity: 0.0; pointer-events: none; } .NetworKit_Page .Measure .Plot { width: 440px; height: 440px; cursor: pointer; float: left; margin-left: -0.9em; margin-right: 20px; } .NetworKit_Page .Measure .Plot .Image { background-repeat: no-repeat; background-position: center center; background-size: contain; height: 100%; pointer-events: none; } .NetworKit_Page .Measure .Stat { width: 500px; float: left; } .NetworKit_Page .Measure .Stat .Group { padding-left: 1.25em; margin-bottom: 0.75em; } .NetworKit_Page .Measure .Stat .Group .Title { font-size: 1.1em; display: block; margin-bottom: 0.3em; margin-left: -0.75em; border-right-style: dotted; border-right-width: 1px; border-bottom-style: dotted; border-bottom-width: 1px; background-color: #D0D0D0; padding-left: 0.2em; } .NetworKit_Page .Measure .Stat .Group .List { -webkit-column-count: 3; -moz-column-count: 3; column-count: 3; } .NetworKit_Page .Measure .Stat .Group .List .Entry { position: relative; line-height: 1.75em; } .NetworKit_Page .Measure .Stat .Group .List .Entry[data-tooltip]:before { position: absolute; left: 0; top: -40px; background-color: #808080; color: #ffffff; height: 30px; line-height: 30px; border-radius: 5px; padding: 0 15px; content: attr(data-tooltip); white-space: nowrap; display: none; } .NetworKit_Page .Measure .Stat .Group .List .Entry[data-tooltip]:after { position: absolute; left: 15px; top: -10px; border-top: 7px solid #808080; border-left: 7px solid transparent; border-right: 7px solid transparent; content: \"\"; display: none; } .NetworKit_Page .Measure .Stat .Group .List .Entry[data-tooltip]:hover:after, .NetworKit_Page .Measure .Stat .Group .List .Entry[data-tooltip]:hover:before { display: block; } .NetworKit_Page .Measure .Stat .Group .List .Entry .MathValue { font-family: \"Courier New\", Courier, monospace; } .NetworKit_Page .Measure:after { content: \".\"; visibility: hidden; display: block; height: 0; clear: both; } .NetworKit_Page .PartitionPie { clear: both; } .NetworKit_Page .PartitionPie img { width: 600px; } #NetworKit_Overlay { left: 0px; top: 0px; display: none; position: absolute; width: 100%; height: 100%; background-color: rgba(0,0,0,0.6); z-index: 1000; } #NetworKit_Overlay_Title { position: absolute; color: white; transform: rotate(-90deg); width: 32em; height: 32em; padding-right: 0.5em; padding-top: 0.5em; text-align: right; font-size: 40px; } #NetworKit_Overlay .button { background: white; cursor: pointer; } #NetworKit_Overlay .button:before { size: 13px; display: inline-block; text-align: center; margin-top: 0.5em; margin-bottom: 0.5em; width: 1.5em; height: 1.5em; } #NetworKit_Overlay .icon-close:before { content: \"X\"; } #NetworKit_Overlay .icon-previous:before { content: \"P\"; } #NetworKit_Overlay .icon-next:before { content: \"N\"; } #NetworKit_Overlay .icon-save:before { content: \"S\"; } #NetworKit_Overlay_Toolbar_Top, #NetworKit_Overlay_Toolbar_Bottom { position: absolute; width: 40px; right: 13px; text-align: right; z-index: 1100; } #NetworKit_Overlay_Toolbar_Top { top: 0.5em; } #NetworKit_Overlay_Toolbar_Bottom { Bottom: 0.5em; } #NetworKit_Overlay_ImageContainer { position: absolute; top: 5%; left: 5%; height: 90%; width: 90%; background-repeat: no-repeat; background-position: center center; background-size: contain; } #NetworKit_Overlay_Image { height: 100%; width: 100%; background-repeat: no-repeat; background-position: center center; background-size: contain; }';\n",
       "\t\t\t\telement.setAttribute('id', 'NetworKit_style');\n",
       "\t\t\t\tdocument.head.appendChild(element);\n",
       "\t\t\t}\n",
       "\t\t\n",
       "\t\t\t\t\n",
       "\t\t\t{\n",
       "\t\t\t\tvar element = document.getElementById('NetworKit_Overlay');\n",
       "\t\t\t\tif (element) {\n",
       "\t\t\t\t\telement.parentNode.removeChild(element);\n",
       "\t\t\t\t}\n",
       "\t\t\t\telement = document.createElement('div');\n",
       "\t\t\t\telement.innerHTML = '<div id=\"NetworKit_Overlay_Toolbar_Top\"><div class=\"button icon-close\" id=\"NetworKit_Overlay_Close\" /></div><div id=\"NetworKit_Overlay_Title\" /> <div id=\"NetworKit_Overlay_ImageContainer\"> <div id=\"NetworKit_Overlay_Image\" /> </div> <div id=\"NetworKit_Overlay_Toolbar_Bottom\"> <div class=\"button icon-previous\" onclick=\"NetworKit_overlayImageShift(-1)\" /> <div class=\"button icon-next\" onclick=\"NetworKit_overlayImageShift(1)\" /> <a id=\"NetworKit_Overlay_Toolbar_Bottom_Save\"><div class=\"button icon-save\" /></a> </div>';\n",
       "\t\t\t\telement.setAttribute('id', 'NetworKit_Overlay');\n",
       "\t\t\t\tdocument.body.appendChild(element);\n",
       "\t\t\t\tdocument.getElementById('NetworKit_Overlay_Close').onclick = function (e) {\n",
       "\t\t\t\t\tdocument.getElementById('NetworKit_Overlay').style.display = 'none';\n",
       "\t\t\t\t}\n",
       "\t\t\t}\n",
       "\t\t\n",
       "\t\t\t-->\n",
       "\t\t\t</script>\n",
       "\t\t"
      ]
     },
     "metadata": {},
     "output_type": "display_data"
    },
    {
     "data": {
      "image/png": "[encoded data removed]",
      "text/plain": [
       "<Figure size 640x480 with 1 Axes>"
      ]
     },
     "metadata": {},
     "output_type": "display_data"
    }
   ],
   "source": [
    "import matplotlib.pyplot as plt\n",
    "from eulearning.datasets import gen_dense_lines_with_noise\n",
    "\n",
    "X = gen_dense_lines_with_noise(n_pattern=2)\n",
    "\n",
    "plt.figure()\n",
    "plt.scatter(X[:,0], X[:,1])\n",
    "plt.show()"
   ]
  },
  {
   "cell_type": "code",
   "execution_count": 42,
   "id": "86472a61",
   "metadata": {},
   "outputs": [
    {
     "data": {
      "text/plain": [
       "(5000, 32, 32, 3)"
      ]
     },
     "execution_count": 42,
     "metadata": {},
     "output_type": "execute_result"
    }
   ],
   "source": [
    "dataset.shape"
   ]
  },
  {
   "cell_type": "code",
   "execution_count": 43,
   "id": "7504b2f7",
   "metadata": {},
   "outputs": [],
   "source": [
    "import numpy as np\n",
    "import gudhi as gd\n",
    "from eulearning.utils import vectorize_st\n",
    "\n",
    "ac = gd.AlphaComplex(X)\t\t\t# Initialize the alpha complex\n",
    "st = ac.create_simplex_tree() \t\t# Compute the alpha filtration\n",
    "vec_st = vectorize_st(st)\t\t# Vectorize the simplex tree"
   ]
  },
  {
   "cell_type": "code",
   "execution_count": null,
   "id": "8525ab1f",
   "metadata": {},
   "outputs": [],
   "source": []
  },
  {
   "cell_type": "code",
   "execution_count": 44,
   "id": "91f993cf",
   "metadata": {
    "scrolled": true
   },
   "outputs": [
    {
     "data": {
      "image/png": "[encoded data removed]",
      "text/plain": [
       "<Figure size 640x480 with 1 Axes>"
      ]
     },
     "metadata": {},
     "output_type": "display_data"
    }
   ],
   "source": [
    "from eulearning.descriptors import EulerCharacteristicProfile\n",
    "\n",
    "# Choose your method to compute Euler characteristic curves\n",
    "## e.g. using quantiles\n",
    "euler_curve = EulerCharacteristicProfile(resolution=(200,), quantiles=[(0, 0.95)], pt_cld=True, normalize=False)\n",
    "\n",
    "## e.g. using specified bounds\n",
    "euler_curve = EulerCharacteristicProfile(resolution=(200,), val_ranges=[(0, 35)], pt_cld=True, normalize=False)\n",
    "\n",
    "# Compute Euler curves\n",
    "ecc = euler_curve.fit_transform(vec_st)\n",
    "\n",
    "# Plot Euler curves\n",
    "ecc_range = np.linspace(euler_curve.val_ranges[0][0], euler_curve.val_ranges[0][1], euler_curve.resolution[0])\n",
    "plt.figure()\n",
    "plt.plot(ecc_range, ecc)\n",
    "plt.title('Euler characteristic curve')\n",
    "plt.show()"
   ]
  },
  {
   "cell_type": "code",
   "execution_count": 45,
   "id": "f368f042",
   "metadata": {},
   "outputs": [
    {
     "data": {
      "text/plain": [
       "(1000, 32, 32, 3)"
      ]
     },
     "execution_count": 45,
     "metadata": {},
     "output_type": "execute_result"
    }
   ],
   "source": [
    "dataset[:1000].shape"
   ]
  },
  {
   "cell_type": "code",
   "execution_count": 46,
   "id": "0e36af6a",
   "metadata": {},
   "outputs": [],
   "source": [
    "indices = np.random.choice(dataset.shape[0], 50, replace=False)\n",
    "reduced_dataset = dataset[indices]\n",
    "\n",
    "flattened_dataset1 = reduced_dataset.reshape(reduced_dataset.shape[0], -1)\n"
   ]
  },
  {
   "cell_type": "code",
   "execution_count": 47,
   "id": "25dc866b",
   "metadata": {},
   "outputs": [],
   "source": [
    "# ac1 = gd.AlphaComplex(flattened_dataset1)\n",
    "# st1 = ac1.create_simplex_tree()\n",
    "# vec_st1 = vectorize_st(st1)"
   ]
  },
  {
   "cell_type": "code",
   "execution_count": null,
   "id": "16101812",
   "metadata": {},
   "outputs": [],
   "source": [
    "ac1 = gd.AlphaComplex(flattened_dataset1)"
   ]
  },
  {
   "cell_type": "code",
   "execution_count": 48,
   "id": "1cb9a0b2",
   "metadata": {},
   "outputs": [
    {
     "data": {
      "text/plain": [
       "(5000, 32, 32, 3)"
      ]
     },
     "execution_count": 48,
     "metadata": {},
     "output_type": "execute_result"
    }
   ],
   "source": [
    "dataset.shape"
   ]
  },
  {
   "cell_type": "code",
   "execution_count": 49,
   "id": "e6ad0785",
   "metadata": {},
   "outputs": [
    {
     "data": {
      "text/plain": [
       "3072"
      ]
     },
     "execution_count": 49,
     "metadata": {},
     "output_type": "execute_result"
    }
   ],
   "source": [
    "32 * 32 * 3"
   ]
  },
  {
   "cell_type": "code",
   "execution_count": null,
   "id": "8c2a8267",
   "metadata": {},
   "outputs": [],
   "source": []
  }
 ],
 "metadata": {
  "kernelspec": {
   "display_name": "Python 3 (ipykernel)",
   "language": "python",
   "name": "python3"
  },
  "language_info": {
   "codemirror_mode": {
    "name": "ipython",
    "version": 3
   },
   "file_extension": ".py",
   "mimetype": "text/x-python",
   "name": "python",
   "nbconvert_exporter": "python",
   "pygments_lexer": "ipython3",
   "version": "3.9.12"
  }
 },
 "nbformat": 4,
 "nbformat_minor": 5
}
