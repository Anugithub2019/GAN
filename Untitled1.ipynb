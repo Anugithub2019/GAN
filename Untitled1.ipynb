{
 "cells": [
  {
   "cell_type": "code",
   "execution_count": 1,
   "id": "e477aeb5-f7c1-41cb-9b90-fef545af9816",
   "metadata": {},
   "outputs": [
    {
     "name": "stdout",
     "output_type": "stream",
     "text": [
      "Collecting pytorch-fid\n",
      "  Downloading pytorch_fid-0.3.0-py3-none-any.whl.metadata (5.3 kB)\n",
      "Requirement already satisfied: numpy in /Users/anupamchaudhauri/opt/miniconda3/envs/FID/lib/python3.12/site-packages (from pytorch-fid) (1.26.4)\n",
      "Collecting pillow (from pytorch-fid)\n",
      "  Downloading pillow-10.3.0-cp312-cp312-macosx_11_0_arm64.whl.metadata (9.2 kB)\n",
      "Collecting scipy (from pytorch-fid)\n",
      "  Downloading scipy-1.13.0-cp312-cp312-macosx_12_0_arm64.whl.metadata (60 kB)\n",
      "\u001b[2K     \u001b[90m━━━━━━━━━━━━━━━━━━━━━━━━━━━━━━━━━━━━━━━━\u001b[0m \u001b[32m60.6/60.6 kB\u001b[0m \u001b[31m3.3 MB/s\u001b[0m eta \u001b[36m0:00:00\u001b[0m\n",
      "\u001b[?25hRequirement already satisfied: torch>=1.0.1 in /Users/anupamchaudhauri/opt/miniconda3/envs/FID/lib/python3.12/site-packages (from pytorch-fid) (2.2.0.post100)\n",
      "Collecting torchvision>=0.2.2 (from pytorch-fid)\n",
      "  Downloading torchvision-0.17.2-cp312-cp312-macosx_11_0_arm64.whl.metadata (6.6 kB)\n",
      "Requirement already satisfied: filelock in /Users/anupamchaudhauri/opt/miniconda3/envs/FID/lib/python3.12/site-packages (from torch>=1.0.1->pytorch-fid) (3.13.1)\n",
      "Requirement already satisfied: typing-extensions>=4.8.0 in /Users/anupamchaudhauri/opt/miniconda3/envs/FID/lib/python3.12/site-packages (from torch>=1.0.1->pytorch-fid) (4.9.0)\n",
      "Requirement already satisfied: sympy in /Users/anupamchaudhauri/opt/miniconda3/envs/FID/lib/python3.12/site-packages (from torch>=1.0.1->pytorch-fid) (1.12)\n",
      "Requirement already satisfied: networkx in /Users/anupamchaudhauri/opt/miniconda3/envs/FID/lib/python3.12/site-packages (from torch>=1.0.1->pytorch-fid) (3.1)\n",
      "Requirement already satisfied: jinja2 in /Users/anupamchaudhauri/opt/miniconda3/envs/FID/lib/python3.12/site-packages (from torch>=1.0.1->pytorch-fid) (3.1.3)\n",
      "Requirement already satisfied: fsspec in /Users/anupamchaudhauri/opt/miniconda3/envs/FID/lib/python3.12/site-packages (from torch>=1.0.1->pytorch-fid) (2023.10.0)\n",
      "Collecting torch>=1.0.1 (from pytorch-fid)\n",
      "  Downloading torch-2.2.2-cp312-none-macosx_11_0_arm64.whl.metadata (25 kB)\n",
      "Requirement already satisfied: MarkupSafe>=2.0 in /Users/anupamchaudhauri/opt/miniconda3/envs/FID/lib/python3.12/site-packages (from jinja2->torch>=1.0.1->pytorch-fid) (2.1.3)\n",
      "Requirement already satisfied: mpmath>=0.19 in /Users/anupamchaudhauri/opt/miniconda3/envs/FID/lib/python3.12/site-packages (from sympy->torch>=1.0.1->pytorch-fid) (1.3.0)\n",
      "Downloading pytorch_fid-0.3.0-py3-none-any.whl (15 kB)\n",
      "Downloading torchvision-0.17.2-cp312-cp312-macosx_11_0_arm64.whl (1.6 MB)\n",
      "\u001b[2K   \u001b[90m━━━━━━━━━━━━━━━━━━━━━━━━━━━━━━━━━━━━━━━━\u001b[0m \u001b[32m1.6/1.6 MB\u001b[0m \u001b[31m3.6 MB/s\u001b[0m eta \u001b[36m0:00:00\u001b[0m00:01\u001b[0m00:01\u001b[0m\n",
      "\u001b[?25hDownloading torch-2.2.2-cp312-none-macosx_11_0_arm64.whl (59.7 MB)\n",
      "\u001b[2K   \u001b[90m━━━━━━━━━━━━━━━━━━━━━━━━━━━━━━━━━━━━━━━━\u001b[0m \u001b[32m59.7/59.7 MB\u001b[0m \u001b[31m5.7 MB/s\u001b[0m eta \u001b[36m0:00:00\u001b[0m00:01\u001b[0m00:01\u001b[0m\n",
      "\u001b[?25hDownloading pillow-10.3.0-cp312-cp312-macosx_11_0_arm64.whl (3.4 MB)\n",
      "\u001b[2K   \u001b[90m━━━━━━━━━━━━━━━━━━━━━━━━━━━━━━━━━━━━━━━━\u001b[0m \u001b[32m3.4/3.4 MB\u001b[0m \u001b[31m6.4 MB/s\u001b[0m eta \u001b[36m0:00:00\u001b[0m00:01\u001b[0m00:01\u001b[0m\n",
      "\u001b[?25hDownloading scipy-1.13.0-cp312-cp312-macosx_12_0_arm64.whl (30.4 MB)\n",
      "\u001b[2K   \u001b[90m━━━━━━━━━━━━━━━━━━━━━━━━━━━━━━━━━━━━━━━━\u001b[0m \u001b[32m30.4/30.4 MB\u001b[0m \u001b[31m3.5 MB/s\u001b[0m eta \u001b[36m0:00:00\u001b[0m00:01\u001b[0m00:01\u001b[0m\n",
      "\u001b[?25hInstalling collected packages: scipy, pillow, torch, torchvision, pytorch-fid\n",
      "  Attempting uninstall: torch\n",
      "    Found existing installation: torch 2.2.0.post100\n",
      "    Uninstalling torch-2.2.0.post100:\n",
      "      Successfully uninstalled torch-2.2.0.post100\n",
      "Successfully installed pillow-10.3.0 pytorch-fid-0.3.0 scipy-1.13.0 torch-2.2.2 torchvision-0.17.2\n",
      "Note: you may need to restart the kernel to use updated packages.\n"
     ]
    }
   ],
   "source": [
    "pip install pytorch-fid"
   ]
  },
  {
   "cell_type": "code",
   "execution_count": null,
   "id": "1cb8cc8d-9557-4d1e-af18-f0d3d92c5add",
   "metadata": {},
   "outputs": [],
   "source": []
  }
 ],
 "metadata": {
  "kernelspec": {
   "display_name": "Python 3 (ipykernel)",
   "language": "python",
   "name": "python3"
  },
  "language_info": {
   "codemirror_mode": {
    "name": "ipython",
    "version": 3
   },
   "file_extension": ".py",
   "mimetype": "text/x-python",
   "name": "python",
   "nbconvert_exporter": "python",
   "pygments_lexer": "ipython3",
   "version": "3.12.2"
  }
 },
 "nbformat": 4,
 "nbformat_minor": 5
}
